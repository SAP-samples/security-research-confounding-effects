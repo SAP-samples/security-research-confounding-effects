{
 "cells": [
  {
   "cell_type": "code",
   "execution_count": 1,
   "metadata": {},
   "outputs": [],
   "source": [
    "import torch\n",
    "import pickle\n",
    "from sklearn.preprocessing import LabelEncoder\n",
    "from sctokenizer import CTokenizer\n",
    "\n",
    "from models import StackLSTM"
   ]
  },
  {
   "cell_type": "code",
   "execution_count": 2,
   "metadata": {},
   "outputs": [],
   "source": [
    "from collections import defaultdict"
   ]
  },
  {
   "cell_type": "code",
   "execution_count": 3,
   "metadata": {},
   "outputs": [],
   "source": [
    "from tqdm import tqdm"
   ]
  },
  {
   "cell_type": "code",
   "execution_count": 4,
   "metadata": {},
   "outputs": [],
   "source": [
    "vocab_path = \"vocab.pkl\""
   ]
  },
  {
   "cell_type": "code",
   "execution_count": 5,
   "metadata": {},
   "outputs": [
    {
     "data": {
      "text/html": [
       "<style>#sk-container-id-1 {color: black;background-color: white;}#sk-container-id-1 pre{padding: 0;}#sk-container-id-1 div.sk-toggleable {background-color: white;}#sk-container-id-1 label.sk-toggleable__label {cursor: pointer;display: block;width: 100%;margin-bottom: 0;padding: 0.3em;box-sizing: border-box;text-align: center;}#sk-container-id-1 label.sk-toggleable__label-arrow:before {content: \"▸\";float: left;margin-right: 0.25em;color: #696969;}#sk-container-id-1 label.sk-toggleable__label-arrow:hover:before {color: black;}#sk-container-id-1 div.sk-estimator:hover label.sk-toggleable__label-arrow:before {color: black;}#sk-container-id-1 div.sk-toggleable__content {max-height: 0;max-width: 0;overflow: hidden;text-align: left;background-color: #f0f8ff;}#sk-container-id-1 div.sk-toggleable__content pre {margin: 0.2em;color: black;border-radius: 0.25em;background-color: #f0f8ff;}#sk-container-id-1 input.sk-toggleable__control:checked~div.sk-toggleable__content {max-height: 200px;max-width: 100%;overflow: auto;}#sk-container-id-1 input.sk-toggleable__control:checked~label.sk-toggleable__label-arrow:before {content: \"▾\";}#sk-container-id-1 div.sk-estimator input.sk-toggleable__control:checked~label.sk-toggleable__label {background-color: #d4ebff;}#sk-container-id-1 div.sk-label input.sk-toggleable__control:checked~label.sk-toggleable__label {background-color: #d4ebff;}#sk-container-id-1 input.sk-hidden--visually {border: 0;clip: rect(1px 1px 1px 1px);clip: rect(1px, 1px, 1px, 1px);height: 1px;margin: -1px;overflow: hidden;padding: 0;position: absolute;width: 1px;}#sk-container-id-1 div.sk-estimator {font-family: monospace;background-color: #f0f8ff;border: 1px dotted black;border-radius: 0.25em;box-sizing: border-box;margin-bottom: 0.5em;}#sk-container-id-1 div.sk-estimator:hover {background-color: #d4ebff;}#sk-container-id-1 div.sk-parallel-item::after {content: \"\";width: 100%;border-bottom: 1px solid gray;flex-grow: 1;}#sk-container-id-1 div.sk-label:hover label.sk-toggleable__label {background-color: #d4ebff;}#sk-container-id-1 div.sk-serial::before {content: \"\";position: absolute;border-left: 1px solid gray;box-sizing: border-box;top: 0;bottom: 0;left: 50%;z-index: 0;}#sk-container-id-1 div.sk-serial {display: flex;flex-direction: column;align-items: center;background-color: white;padding-right: 0.2em;padding-left: 0.2em;position: relative;}#sk-container-id-1 div.sk-item {position: relative;z-index: 1;}#sk-container-id-1 div.sk-parallel {display: flex;align-items: stretch;justify-content: center;background-color: white;position: relative;}#sk-container-id-1 div.sk-item::before, #sk-container-id-1 div.sk-parallel-item::before {content: \"\";position: absolute;border-left: 1px solid gray;box-sizing: border-box;top: 0;bottom: 0;left: 50%;z-index: -1;}#sk-container-id-1 div.sk-parallel-item {display: flex;flex-direction: column;z-index: 1;position: relative;background-color: white;}#sk-container-id-1 div.sk-parallel-item:first-child::after {align-self: flex-end;width: 50%;}#sk-container-id-1 div.sk-parallel-item:last-child::after {align-self: flex-start;width: 50%;}#sk-container-id-1 div.sk-parallel-item:only-child::after {width: 0;}#sk-container-id-1 div.sk-dashed-wrapped {border: 1px dashed gray;margin: 0 0.4em 0.5em 0.4em;box-sizing: border-box;padding-bottom: 0.4em;background-color: white;}#sk-container-id-1 div.sk-label label {font-family: monospace;font-weight: bold;display: inline-block;line-height: 1.2em;}#sk-container-id-1 div.sk-label-container {text-align: center;}#sk-container-id-1 div.sk-container {/* jupyter's `normalize.less` sets `[hidden] { display: none; }` but bootstrap.min.css set `[hidden] { display: none !important; }` so we also need the `!important` here to be able to override the default hidden behavior on the sphinx rendered scikit-learn.org. See: https://github.com/scikit-learn/scikit-learn/issues/21755 */display: inline-block !important;position: relative;}#sk-container-id-1 div.sk-text-repr-fallback {display: none;}</style><div id=\"sk-container-id-1\" class=\"sk-top-container\"><div class=\"sk-text-repr-fallback\"><pre>LabelEncoder()</pre><b>In a Jupyter environment, please rerun this cell to show the HTML representation or trust the notebook. <br />On GitHub, the HTML representation is unable to render, please try loading this page with nbviewer.org.</b></div><div class=\"sk-container\" hidden><div class=\"sk-item\"><div class=\"sk-estimator sk-toggleable\"><input class=\"sk-toggleable__control sk-hidden--visually\" id=\"sk-estimator-id-1\" type=\"checkbox\" checked><label for=\"sk-estimator-id-1\" class=\"sk-toggleable__label sk-toggleable__label-arrow\">LabelEncoder</label><div class=\"sk-toggleable__content\"><pre>LabelEncoder()</pre></div></div></div></div></div>"
      ],
      "text/plain": [
       "LabelEncoder()"
      ]
     },
     "execution_count": 5,
     "metadata": {},
     "output_type": "execute_result"
    }
   ],
   "source": [
    "with open(vocab_path, \"rb\") as input_file:\n",
    "    vocab = pickle.load(input_file)\n",
    "le = LabelEncoder()\n",
    "le.fit([\"<SOC>\", \"<EOC>\"])\n",
    "le.fit(list(vocab))\n"
   ]
  },
  {
   "cell_type": "code",
   "execution_count": 6,
   "metadata": {},
   "outputs": [],
   "source": [
    "def process_and_encode(text):\n",
    "    tokenizer = CTokenizer()\n",
    "    all_tokens = tokenizer.tokenize(text)\n",
    "    filtered = [token for token in all_tokens if token.token_value in vocab]\n",
    "    values = [token.token_value for token in filtered]\n",
    "    lines = [token.line for token in filtered]\n",
    "    code = torch.tensor(le.transform(values))\n",
    "    return code, lines"
   ]
  },
  {
   "cell_type": "code",
   "execution_count": 7,
   "metadata": {},
   "outputs": [],
   "source": [
    "HIDDEN_SIZE_CONTROLLER = 8\n",
    "EMBED_DIM = 164\n",
    "HIDDEN_SIZE_STACK = 8"
   ]
  },
  {
   "cell_type": "code",
   "execution_count": 8,
   "metadata": {},
   "outputs": [
    {
     "data": {
      "text/plain": [
       "StackLSTM(\n",
       "  (embedding): Embedding(10001, 164)\n",
       "  (controller): LSTMCell(172, 8)\n",
       "  (output_linear): Linear(in_features=8, out_features=10001, bias=True)\n",
       "  (softmax): Softmax(dim=None)\n",
       "  (push_fc): Linear(in_features=8, out_features=1, bias=True)\n",
       "  (pop_fc): Linear(in_features=8, out_features=1, bias=True)\n",
       "  (values_fc): Linear(in_features=8, out_features=8, bias=True)\n",
       "  (classifier): Linear(in_features=10001, out_features=1, bias=True)\n",
       "  (sigmoid): Sigmoid()\n",
       ")"
      ]
     },
     "execution_count": 8,
     "metadata": {},
     "output_type": "execute_result"
    }
   ],
   "source": [
    "model = StackLSTM(embedding_size=len(vocab),\n",
    "                  embedding_dim=EMBED_DIM,\n",
    "                  hidden_size_controller=HIDDEN_SIZE_CONTROLLER,\n",
    "                  hidden_size_stack=HIDDEN_SIZE_STACK,\n",
    "                  batch_size=1,\n",
    "                  label_encoder=le)\n",
    "model.load_state_dict(torch.load(\"model_7\"))\n",
    "model.eval()"
   ]
  },
  {
   "cell_type": "code",
   "execution_count": 17,
   "metadata": {},
   "outputs": [],
   "source": [
    "from sklearn.metrics import matthews_corrcoef, accuracy_score, f1_score, balanced_accuracy_score\n",
    "\n",
    "def compute_metrics(pred, true):\n",
    "    predicted = (torch.as_tensor(pred) > 0.5).long().tolist()\n",
    "    return {\n",
    "        \"MCC\": matthews_corrcoef(true, predicted),\n",
    "        \"F1\": f1_score(true, predicted, average='macro'),\n",
    "        \"Acc\": accuracy_score(true, predicted),\n",
    "        \"BAcc\": balanced_accuracy_score(true, predicted),\n",
    "        \"Count\": len(pred)\n",
    "    }"
   ]
  },
  {
   "cell_type": "code",
   "execution_count": 14,
   "metadata": {},
   "outputs": [],
   "source": [
    "import os\n",
    "import glob\n",
    "from datasets import Dataset"
   ]
  },
  {
   "cell_type": "code",
   "execution_count": 28,
   "metadata": {},
   "outputs": [],
   "source": [
    "@torch.no_grad()\n",
    "def eval(dataset_path, dataset_name):\n",
    "    print(f\"Evaluating {dataset_name}\")\n",
    "    preds = []\n",
    "    trues = []\n",
    "    index = []\n",
    "    for name in tqdm(glob.glob(f\"../data/test/{dataset_path}/*.c\")):\n",
    "        idx = name.split(\"/\")[-1].split(\"_\")[0]\n",
    "        label = int(name.split(\"/\")[-1].split(\"_\")[-1].split(\".\")[0])\n",
    "\n",
    "        with open(name, \"r\") as f:\n",
    "            text = f.read()\n",
    "        if len(text) > 1_000:\n",
    "            continue\n",
    "        data, lines = process_and_encode(text)\n",
    "        pred = model(data.unsqueeze(1))\n",
    "        preds.append(pred)\n",
    "        trues.append(label)\n",
    "        index.append(int(idx))\n",
    "    data = Dataset.from_dict({\n",
    "        \"index\": index,\n",
    "        \"pred\": preds,\n",
    "        \"true\": trues,\n",
    "    })\n",
    "    data.save_to_disk(os.path.join(\"report/prediction/stacklstm\", dataset_name))\n",
    "    print(compute_metrics(preds, trues))"
   ]
  },
  {
   "cell_type": "code",
   "execution_count": 25,
   "metadata": {},
   "outputs": [],
   "source": [
    "from datasets import load_from_disk, concatenate_datasets"
   ]
  },
  {
   "cell_type": "code",
   "execution_count": 32,
   "metadata": {},
   "outputs": [],
   "source": [
    "@torch.no_grad()\n",
    "def eval_rest(dataset_path, dataset_name):\n",
    "    print(f\"Evaluating rest of {dataset_name}\")\n",
    "    dataset = load_from_disk(os.path.join(\"report/prediction/stacklstm\", dataset_name))\n",
    "    indices = set(dataset[\"index\"])\n",
    "    preds = []\n",
    "    trues = []\n",
    "    index = []\n",
    "    remaining_files = list(filter(\n",
    "        lambda name: int(name.split(\"/\")[-1].split(\"_\")[0]) not in indices,\n",
    "        glob.glob(f\"../data/test/{dataset_path}/*.c\")\n",
    "    ))\n",
    "    for name in tqdm(remaining_files):\n",
    "        idx = name.split(\"/\")[-1].split(\"_\")[0]\n",
    "        if int(idx) in indices:\n",
    "            continue\n",
    "        label = int(name.split(\"/\")[-1].split(\"_\")[-1].split(\".\")[0])\n",
    "\n",
    "        with open(name, \"r\") as f:\n",
    "            text = f.read()\n",
    "        data, lines = process_and_encode(text)\n",
    "        pred = model(data.unsqueeze(1))\n",
    "        preds.append(pred)\n",
    "        trues.append(label)\n",
    "        index.append(int(idx))\n",
    "    data = Dataset.from_dict({\n",
    "        \"index\": index,\n",
    "        \"pred\": preds,\n",
    "        \"true\": trues,\n",
    "    })\n",
    "    data = concatenate_datasets([dataset, data])\n",
    "    data.save_to_disk(os.path.join(\"report/prediction/stacklstmfull\", dataset_name))\n",
    "    print(compute_metrics(preds, trues))"
   ]
  },
  {
   "cell_type": "code",
   "execution_count": 20,
   "metadata": {},
   "outputs": [],
   "source": [
    "DATASETS = [\n",
    "    (\"test\", \"test\"),\n",
    "    (\"apply_codestyle_Chromium\", \"perturbed-data/apply_codestyle_Chromium\"),\n",
    "    (\"apply_codestyle_Google\", \"perturbed-data/apply_codestyle_Google\"),\n",
    "    (\"apply_codestyle_LLVM\", \"perturbed-data/apply_codestyle_LLVM\"),\n",
    "    (\"apply_codestyle_Mozilla\", \"perturbed-data/apply_codestyle_Mozilla\"),\n",
    "    (\"apply_cobfuscate\", \"perturbed-data/apply_cobfuscate\"),\n",
    "    (\"double_obfuscate\", \"perturbed-data/double_obfuscate\"),\n",
    "    (\"obfuscate_then_style\", \"perturbed-data/obfuscate_then_style\"),\n",
    "    (\"py_obfuscate_then_style\", \"perturbed-data/py_obfuscate_then_style\"),\n",
    "    (\"apply_py_obfuscator\", \"perturbed-data/apply_py_obfuscator\"),\n",
    "]"
   ]
  },
  {
   "cell_type": "code",
   "execution_count": 23,
   "metadata": {},
   "outputs": [
    {
     "name": "stdout",
     "output_type": "stream",
     "text": [
      "Evaluating test\n"
     ]
    },
    {
     "name": "stderr",
     "output_type": "stream",
     "text": [
      "100%|██████████| 18864/18864 [28:39<00:00, 10.97it/s]\n"
     ]
    },
    {
     "data": {
      "application/vnd.jupyter.widget-view+json": {
       "model_id": "16d0dab51df244fdad28e7c194e6425f",
       "version_major": 2,
       "version_minor": 0
      },
      "text/plain": [
       "Saving the dataset (0/1 shards):   0%|          | 0/14758 [00:00<?, ? examples/s]"
      ]
     },
     "metadata": {},
     "output_type": "display_data"
    },
    {
     "name": "stdout",
     "output_type": "stream",
     "text": [
      "{'MCC': 0.13678984353107346, 'F1': 0.4969692685639592, 'Acc': 0.747594525003388, 'BAcc': 0.6579116650584862, 'Count': 14758}\n",
      "Evaluating perturbed-data/apply_codestyle_Chromium\n"
     ]
    },
    {
     "name": "stderr",
     "output_type": "stream",
     "text": [
      "100%|██████████| 18864/18864 [18:02<00:00, 17.42it/s]\n"
     ]
    },
    {
     "data": {
      "application/vnd.jupyter.widget-view+json": {
       "model_id": "59d0a82d28474bdeab66fda4d6f58c23",
       "version_major": 2,
       "version_minor": 0
      },
      "text/plain": [
       "Saving the dataset (0/1 shards):   0%|          | 0/14578 [00:00<?, ? examples/s]"
      ]
     },
     "metadata": {},
     "output_type": "display_data"
    },
    {
     "name": "stdout",
     "output_type": "stream",
     "text": [
      "{'MCC': 0.13187702429382447, 'F1': 0.4947459742013428, 'Acc': 0.7496227191658664, 'BAcc': 0.6549341126529664, 'Count': 14578}\n",
      "Evaluating perturbed-data/apply_codestyle_Google\n"
     ]
    },
    {
     "name": "stderr",
     "output_type": "stream",
     "text": [
      "100%|██████████| 18864/18864 [17:06<00:00, 18.37it/s]\n"
     ]
    },
    {
     "data": {
      "application/vnd.jupyter.widget-view+json": {
       "model_id": "c1dd7ce6f4c24bb6ab43c291bf5a343e",
       "version_major": 2,
       "version_minor": 0
      },
      "text/plain": [
       "Saving the dataset (0/1 shards):   0%|          | 0/14677 [00:00<?, ? examples/s]"
      ]
     },
     "metadata": {},
     "output_type": "display_data"
    },
    {
     "name": "stdout",
     "output_type": "stream",
     "text": [
      "{'MCC': 0.13144484754144345, 'F1': 0.49424892971011414, 'Acc': 0.7480411528241466, 'BAcc': 0.6542571256837912, 'Count': 14677}\n",
      "Evaluating perturbed-data/apply_codestyle_LLVM\n"
     ]
    },
    {
     "name": "stderr",
     "output_type": "stream",
     "text": [
      "100%|██████████| 18864/18864 [17:14<00:00, 18.23it/s]\n"
     ]
    },
    {
     "data": {
      "application/vnd.jupyter.widget-view+json": {
       "model_id": "3358d789126e46228ed1c33a9e6fd278",
       "version_major": 2,
       "version_minor": 0
      },
      "text/plain": [
       "Saving the dataset (0/1 shards):   0%|          | 0/14667 [00:00<?, ? examples/s]"
      ]
     },
     "metadata": {},
     "output_type": "display_data"
    },
    {
     "name": "stdout",
     "output_type": "stream",
     "text": [
      "{'MCC': 0.13158947555513492, 'F1': 0.4943429304468957, 'Acc': 0.7484829890229767, 'BAcc': 0.6545723263956544, 'Count': 14667}\n",
      "Evaluating perturbed-data/apply_codestyle_Mozilla\n"
     ]
    },
    {
     "name": "stderr",
     "output_type": "stream",
     "text": [
      "100%|██████████| 18864/18864 [16:09<00:00, 19.45it/s]\n"
     ]
    },
    {
     "data": {
      "application/vnd.jupyter.widget-view+json": {
       "model_id": "827e6da453014bbdb284dafc810eace4",
       "version_major": 2,
       "version_minor": 0
      },
      "text/plain": [
       "Saving the dataset (0/1 shards):   0%|          | 0/14573 [00:00<?, ? examples/s]"
      ]
     },
     "metadata": {},
     "output_type": "display_data"
    },
    {
     "name": "stdout",
     "output_type": "stream",
     "text": [
      "{'MCC': 0.1320639440556975, 'F1': 0.4940070033304318, 'Acc': 0.7489878542510121, 'BAcc': 0.6563161876155679, 'Count': 14573}\n",
      "Evaluating perturbed-data/apply_cobfuscate\n"
     ]
    },
    {
     "name": "stderr",
     "output_type": "stream",
     "text": [
      "100%|██████████| 18864/18864 [17:11<00:00, 18.29it/s]\n"
     ]
    },
    {
     "data": {
      "application/vnd.jupyter.widget-view+json": {
       "model_id": "d84f263216d340ecbf12c86698faa583",
       "version_major": 2,
       "version_minor": 0
      },
      "text/plain": [
       "Saving the dataset (0/1 shards):   0%|          | 0/9229 [00:00<?, ? examples/s]"
      ]
     },
     "metadata": {},
     "output_type": "display_data"
    },
    {
     "name": "stdout",
     "output_type": "stream",
     "text": [
      "{'MCC': 0.004021791959466382, 'F1': 0.4651473778460304, 'Acc': 0.7731065120814823, 'BAcc': 0.5045750405425328, 'Count': 9229}\n",
      "Evaluating perturbed-data/double_obfuscate\n"
     ]
    },
    {
     "name": "stderr",
     "output_type": "stream",
     "text": [
      "100%|██████████| 18864/18864 [13:15<00:00, 23.71it/s]\n"
     ]
    },
    {
     "data": {
      "application/vnd.jupyter.widget-view+json": {
       "model_id": "afc0c8fcd81e4e4481d1396f15116dc0",
       "version_major": 2,
       "version_minor": 0
      },
      "text/plain": [
       "Saving the dataset (0/1 shards):   0%|          | 0/5981 [00:00<?, ? examples/s]"
      ]
     },
     "metadata": {},
     "output_type": "display_data"
    },
    {
     "name": "stdout",
     "output_type": "stream",
     "text": [
      "{'MCC': 0.046706556629016675, 'F1': 0.4876382601873284, 'Acc': 0.8060524995820098, 'BAcc': 0.551146970344182, 'Count': 5981}\n",
      "Evaluating perturbed-data/obfuscate_then_style\n"
     ]
    },
    {
     "name": "stderr",
     "output_type": "stream",
     "text": [
      "100%|██████████| 18864/18864 [27:32<00:00, 11.42it/s] \n"
     ]
    },
    {
     "data": {
      "application/vnd.jupyter.widget-view+json": {
       "model_id": "49d7b210b56d42f0a57def7ea61f5dde",
       "version_major": 2,
       "version_minor": 0
      },
      "text/plain": [
       "Saving the dataset (0/1 shards):   0%|          | 0/7664 [00:00<?, ? examples/s]"
      ]
     },
     "metadata": {},
     "output_type": "display_data"
    },
    {
     "name": "stdout",
     "output_type": "stream",
     "text": [
      "{'MCC': 0.02462802417191854, 'F1': 0.47221536897740957, 'Acc': 0.7796189979123174, 'BAcc': 0.5284406867231883, 'Count': 7664}\n",
      "Evaluating perturbed-data/py_obfuscate_then_style\n"
     ]
    },
    {
     "name": "stderr",
     "output_type": "stream",
     "text": [
      "100%|██████████| 18864/18864 [17:35<00:00, 17.87it/s]\n"
     ]
    },
    {
     "data": {
      "application/vnd.jupyter.widget-view+json": {
       "model_id": "4fce20a8ddc14c21804d4c1be3f9f944",
       "version_major": 2,
       "version_minor": 0
      },
      "text/plain": [
       "Saving the dataset (0/1 shards):   0%|          | 0/13891 [00:00<?, ? examples/s]"
      ]
     },
     "metadata": {},
     "output_type": "display_data"
    },
    {
     "name": "stdout",
     "output_type": "stream",
     "text": [
      "{'MCC': 0.10518368032199671, 'F1': 0.5087766763787119, 'Acc': 0.8062054567705709, 'BAcc': 0.6118289169281866, 'Count': 13891}\n",
      "Evaluating perturbed-data/apply_py_obfuscator\n"
     ]
    },
    {
     "name": "stderr",
     "output_type": "stream",
     "text": [
      "100%|██████████| 18864/18864 [22:19<00:00, 14.09it/s] \n"
     ]
    },
    {
     "data": {
      "application/vnd.jupyter.widget-view+json": {
       "model_id": "ee80ba7a4fda412796b1c702c7d4add2",
       "version_major": 2,
       "version_minor": 0
      },
      "text/plain": [
       "Saving the dataset (0/1 shards):   0%|          | 0/14955 [00:00<?, ? examples/s]"
      ]
     },
     "metadata": {},
     "output_type": "display_data"
    },
    {
     "name": "stdout",
     "output_type": "stream",
     "text": [
      "{'MCC': 0.10581656233300865, 'F1': 0.5070603088971157, 'Acc': 0.7924439986626546, 'BAcc': 0.6107366957539835, 'Count': 14955}\n"
     ]
    }
   ],
   "source": [
    "for dataset_path, dataset_name in DATASETS:\n",
    "    eval(dataset_path, dataset_name)"
   ]
  },
  {
   "cell_type": "code",
   "execution_count": 33,
   "metadata": {},
   "outputs": [
    {
     "name": "stdout",
     "output_type": "stream",
     "text": [
      "Evaluating rest of test\n"
     ]
    },
    {
     "name": "stderr",
     "output_type": "stream",
     "text": [
      "100%|██████████| 4106/4106 [43:49<00:00,  1.56it/s]   \n"
     ]
    },
    {
     "data": {
      "application/vnd.jupyter.widget-view+json": {
       "model_id": "9f5211eea60447b9bef666d4be37e794",
       "version_major": 2,
       "version_minor": 0
      },
      "text/plain": [
       "Saving the dataset (0/1 shards):   0%|          | 0/18864 [00:00<?, ? examples/s]"
      ]
     },
     "metadata": {},
     "output_type": "display_data"
    },
    {
     "name": "stdout",
     "output_type": "stream",
     "text": [
      "{'MCC': 0.12369790735738138, 'F1': 0.4525352542622657, 'Acc': 0.5187530443253775, 'BAcc': 0.5939212779973649, 'Count': 4106}\n",
      "Evaluating rest of perturbed-data/apply_codestyle_Chromium\n"
     ]
    },
    {
     "name": "stderr",
     "output_type": "stream",
     "text": [
      "100%|██████████| 4286/4286 [39:40<00:00,  1.80it/s]   \n"
     ]
    },
    {
     "data": {
      "application/vnd.jupyter.widget-view+json": {
       "model_id": "4a3e323b808c4a62b657d55c93fe0638",
       "version_major": 2,
       "version_minor": 0
      },
      "text/plain": [
       "Saving the dataset (0/1 shards):   0%|          | 0/18864 [00:00<?, ? examples/s]"
      ]
     },
     "metadata": {},
     "output_type": "display_data"
    },
    {
     "name": "stdout",
     "output_type": "stream",
     "text": [
      "{'MCC': 0.1269531915829264, 'F1': 0.45607519259178475, 'Acc': 0.5221651889874008, 'BAcc': 0.5958149253731343, 'Count': 4286}\n",
      "Evaluating rest of perturbed-data/apply_codestyle_Google\n"
     ]
    },
    {
     "name": "stderr",
     "output_type": "stream",
     "text": [
      "100%|██████████| 4187/4187 [38:32<00:00,  1.81it/s]   \n"
     ]
    },
    {
     "data": {
      "application/vnd.jupyter.widget-view+json": {
       "model_id": "56e62bdbcec249038e5475d3cbec0e46",
       "version_major": 2,
       "version_minor": 0
      },
      "text/plain": [
       "Saving the dataset (0/1 shards):   0%|          | 0/18864 [00:00<?, ? examples/s]"
      ]
     },
     "metadata": {},
     "output_type": "display_data"
    },
    {
     "name": "stdout",
     "output_type": "stream",
     "text": [
      "{'MCC': 0.12837772211680537, 'F1': 0.4571350630330112, 'Acc': 0.5223310245999523, 'BAcc': 0.5964592198160078, 'Count': 4187}\n",
      "Evaluating rest of perturbed-data/apply_codestyle_LLVM\n"
     ]
    },
    {
     "name": "stderr",
     "output_type": "stream",
     "text": [
      "100%|██████████| 4197/4197 [37:09<00:00,  1.88it/s]   \n"
     ]
    },
    {
     "data": {
      "application/vnd.jupyter.widget-view+json": {
       "model_id": "260195eeb7ea4a809a27e95720bad55f",
       "version_major": 2,
       "version_minor": 0
      },
      "text/plain": [
       "Saving the dataset (0/1 shards):   0%|          | 0/18864 [00:00<?, ? examples/s]"
      ]
     },
     "metadata": {},
     "output_type": "display_data"
    },
    {
     "name": "stdout",
     "output_type": "stream",
     "text": [
      "{'MCC': 0.12760975225592358, 'F1': 0.4567841689665079, 'Acc': 0.5218012866333095, 'BAcc': 0.5958209659075148, 'Count': 4197}\n",
      "Evaluating rest of perturbed-data/apply_codestyle_Mozilla\n"
     ]
    },
    {
     "name": "stderr",
     "output_type": "stream",
     "text": [
      "100%|██████████| 4291/4291 [38:30<00:00,  1.86it/s]   \n"
     ]
    },
    {
     "data": {
      "application/vnd.jupyter.widget-view+json": {
       "model_id": "f7c80f4bac9e4ad2b29fddf5e3d0cec3",
       "version_major": 2,
       "version_minor": 0
      },
      "text/plain": [
       "Saving the dataset (0/1 shards):   0%|          | 0/18864 [00:00<?, ? examples/s]"
      ]
     },
     "metadata": {},
     "output_type": "display_data"
    },
    {
     "name": "stdout",
     "output_type": "stream",
     "text": [
      "{'MCC': 0.1263577459831757, 'F1': 0.45826695061782285, 'Acc': 0.5248193894197157, 'BAcc': 0.5949166750198018, 'Count': 4291}\n",
      "Evaluating rest of perturbed-data/apply_cobfuscate\n"
     ]
    },
    {
     "name": "stderr",
     "output_type": "stream",
     "text": [
      "100%|██████████| 9635/9635 [1:04:53<00:00,  2.47it/s] \n"
     ]
    },
    {
     "data": {
      "application/vnd.jupyter.widget-view+json": {
       "model_id": "daf8901720bb424fa1706ddca4e4301d",
       "version_major": 2,
       "version_minor": 0
      },
      "text/plain": [
       "Saving the dataset (0/1 shards):   0%|          | 0/18864 [00:00<?, ? examples/s]"
      ]
     },
     "metadata": {},
     "output_type": "display_data"
    },
    {
     "name": "stdout",
     "output_type": "stream",
     "text": [
      "{'MCC': 0.012657069295031641, 'F1': 0.4840612633616579, 'Acc': 0.7334717176959004, 'BAcc': 0.5098851388903045, 'Count': 9635}\n",
      "Evaluating rest of perturbed-data/double_obfuscate\n"
     ]
    },
    {
     "name": "stderr",
     "output_type": "stream",
     "text": [
      "100%|██████████| 12883/12883 [1:33:24<00:00,  2.30it/s]  \n"
     ]
    },
    {
     "data": {
      "application/vnd.jupyter.widget-view+json": {
       "model_id": "a11f9d77efa34a49b4dca8c0a22fa153",
       "version_major": 2,
       "version_minor": 0
      },
      "text/plain": [
       "Saving the dataset (0/1 shards):   0%|          | 0/18864 [00:00<?, ? examples/s]"
      ]
     },
     "metadata": {},
     "output_type": "display_data"
    },
    {
     "name": "stdout",
     "output_type": "stream",
     "text": [
      "{'MCC': 0.03278747105526105, 'F1': 0.4900945580173892, 'Acc': 0.74928199953427, 'BAcc': 0.5271306431489566, 'Count': 12883}\n",
      "Evaluating rest of perturbed-data/obfuscate_then_style\n"
     ]
    },
    {
     "name": "stderr",
     "output_type": "stream",
     "text": [
      "100%|██████████| 11200/11200 [1:20:47<00:00,  2.31it/s]  \n"
     ]
    },
    {
     "data": {
      "application/vnd.jupyter.widget-view+json": {
       "model_id": "f732430966e8457aa36b00a1a13cdceb",
       "version_major": 2,
       "version_minor": 0
      },
      "text/plain": [
       "Saving the dataset (0/1 shards):   0%|          | 0/18864 [00:00<?, ? examples/s]"
      ]
     },
     "metadata": {},
     "output_type": "display_data"
    },
    {
     "name": "stdout",
     "output_type": "stream",
     "text": [
      "{'MCC': 0.02516744739300999, 'F1': 0.4868057468109849, 'Acc': 0.7370535714285714, 'BAcc': 0.5203822997120893, 'Count': 11200}\n",
      "Evaluating rest of perturbed-data/py_obfuscate_then_style\n"
     ]
    },
    {
     "name": "stderr",
     "output_type": "stream",
     "text": [
      "100%|██████████| 4973/4973 [40:58<00:00,  2.02it/s]   \n"
     ]
    },
    {
     "data": {
      "application/vnd.jupyter.widget-view+json": {
       "model_id": "a9701f52d72743e586e6695c6b0b6280",
       "version_major": 2,
       "version_minor": 0
      },
      "text/plain": [
       "Saving the dataset (0/1 shards):   0%|          | 0/18864 [00:00<?, ? examples/s]"
      ]
     },
     "metadata": {},
     "output_type": "display_data"
    },
    {
     "name": "stdout",
     "output_type": "stream",
     "text": [
      "{'MCC': 0.10387707808413571, 'F1': 0.4769141368466195, 'Acc': 0.5829479187613111, 'BAcc': 0.5807659072336966, 'Count': 4973}\n",
      "Evaluating rest of perturbed-data/apply_py_obfuscator\n"
     ]
    },
    {
     "name": "stderr",
     "output_type": "stream",
     "text": [
      "100%|██████████| 3909/3909 [36:07<00:00,  1.80it/s]   \n"
     ]
    },
    {
     "data": {
      "application/vnd.jupyter.widget-view+json": {
       "model_id": "4606d0cd61fe42d4be6d4b5ebcc941ff",
       "version_major": 2,
       "version_minor": 0
      },
      "text/plain": [
       "Saving the dataset (0/1 shards):   0%|          | 0/18864 [00:00<?, ? examples/s]"
      ]
     },
     "metadata": {},
     "output_type": "display_data"
    },
    {
     "name": "stdout",
     "output_type": "stream",
     "text": [
      "{'MCC': 0.11116461929010228, 'F1': 0.4800397287814373, 'Acc': 0.5748273215656178, 'BAcc': 0.5838610415261586, 'Count': 3909}\n"
     ]
    }
   ],
   "source": [
    "for dataset_path, dataset_name in DATASETS:\n",
    "    eval_rest(dataset_path, dataset_name)"
   ]
  }
 ],
 "metadata": {
  "kernelspec": {
   "display_name": "venv",
   "language": "python",
   "name": "python3"
  },
  "language_info": {
   "codemirror_mode": {
    "name": "ipython",
    "version": 3
   },
   "file_extension": ".py",
   "mimetype": "text/x-python",
   "name": "python",
   "nbconvert_exporter": "python",
   "pygments_lexer": "ipython3",
   "version": "3.8.10"
  },
  "orig_nbformat": 4
 },
 "nbformat": 4,
 "nbformat_minor": 2
}
