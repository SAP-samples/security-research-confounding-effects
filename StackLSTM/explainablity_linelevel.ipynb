{
 "cells": [
  {
   "cell_type": "code",
   "execution_count": 21,
   "metadata": {},
   "outputs": [],
   "source": [
    "import torch\n",
    "import pickle\n",
    "from sklearn.preprocessing import LabelEncoder\n",
    "from sctokenizer import CTokenizer\n",
    "\n",
    "from models import StackLSTM"
   ]
  },
  {
   "cell_type": "code",
   "execution_count": 44,
   "metadata": {},
   "outputs": [],
   "source": [
    "from collections import defaultdict"
   ]
  },
  {
   "cell_type": "code",
   "execution_count": 7,
   "metadata": {},
   "outputs": [],
   "source": [
    "vocab_path = \"vocab.pkl\""
   ]
  },
  {
   "cell_type": "code",
   "execution_count": 37,
   "metadata": {},
   "outputs": [
    {
     "data": {
      "text/html": [
       "<style>#sk-container-id-2 {color: black;background-color: white;}#sk-container-id-2 pre{padding: 0;}#sk-container-id-2 div.sk-toggleable {background-color: white;}#sk-container-id-2 label.sk-toggleable__label {cursor: pointer;display: block;width: 100%;margin-bottom: 0;padding: 0.3em;box-sizing: border-box;text-align: center;}#sk-container-id-2 label.sk-toggleable__label-arrow:before {content: \"▸\";float: left;margin-right: 0.25em;color: #696969;}#sk-container-id-2 label.sk-toggleable__label-arrow:hover:before {color: black;}#sk-container-id-2 div.sk-estimator:hover label.sk-toggleable__label-arrow:before {color: black;}#sk-container-id-2 div.sk-toggleable__content {max-height: 0;max-width: 0;overflow: hidden;text-align: left;background-color: #f0f8ff;}#sk-container-id-2 div.sk-toggleable__content pre {margin: 0.2em;color: black;border-radius: 0.25em;background-color: #f0f8ff;}#sk-container-id-2 input.sk-toggleable__control:checked~div.sk-toggleable__content {max-height: 200px;max-width: 100%;overflow: auto;}#sk-container-id-2 input.sk-toggleable__control:checked~label.sk-toggleable__label-arrow:before {content: \"▾\";}#sk-container-id-2 div.sk-estimator input.sk-toggleable__control:checked~label.sk-toggleable__label {background-color: #d4ebff;}#sk-container-id-2 div.sk-label input.sk-toggleable__control:checked~label.sk-toggleable__label {background-color: #d4ebff;}#sk-container-id-2 input.sk-hidden--visually {border: 0;clip: rect(1px 1px 1px 1px);clip: rect(1px, 1px, 1px, 1px);height: 1px;margin: -1px;overflow: hidden;padding: 0;position: absolute;width: 1px;}#sk-container-id-2 div.sk-estimator {font-family: monospace;background-color: #f0f8ff;border: 1px dotted black;border-radius: 0.25em;box-sizing: border-box;margin-bottom: 0.5em;}#sk-container-id-2 div.sk-estimator:hover {background-color: #d4ebff;}#sk-container-id-2 div.sk-parallel-item::after {content: \"\";width: 100%;border-bottom: 1px solid gray;flex-grow: 1;}#sk-container-id-2 div.sk-label:hover label.sk-toggleable__label {background-color: #d4ebff;}#sk-container-id-2 div.sk-serial::before {content: \"\";position: absolute;border-left: 1px solid gray;box-sizing: border-box;top: 0;bottom: 0;left: 50%;z-index: 0;}#sk-container-id-2 div.sk-serial {display: flex;flex-direction: column;align-items: center;background-color: white;padding-right: 0.2em;padding-left: 0.2em;position: relative;}#sk-container-id-2 div.sk-item {position: relative;z-index: 1;}#sk-container-id-2 div.sk-parallel {display: flex;align-items: stretch;justify-content: center;background-color: white;position: relative;}#sk-container-id-2 div.sk-item::before, #sk-container-id-2 div.sk-parallel-item::before {content: \"\";position: absolute;border-left: 1px solid gray;box-sizing: border-box;top: 0;bottom: 0;left: 50%;z-index: -1;}#sk-container-id-2 div.sk-parallel-item {display: flex;flex-direction: column;z-index: 1;position: relative;background-color: white;}#sk-container-id-2 div.sk-parallel-item:first-child::after {align-self: flex-end;width: 50%;}#sk-container-id-2 div.sk-parallel-item:last-child::after {align-self: flex-start;width: 50%;}#sk-container-id-2 div.sk-parallel-item:only-child::after {width: 0;}#sk-container-id-2 div.sk-dashed-wrapped {border: 1px dashed gray;margin: 0 0.4em 0.5em 0.4em;box-sizing: border-box;padding-bottom: 0.4em;background-color: white;}#sk-container-id-2 div.sk-label label {font-family: monospace;font-weight: bold;display: inline-block;line-height: 1.2em;}#sk-container-id-2 div.sk-label-container {text-align: center;}#sk-container-id-2 div.sk-container {/* jupyter's `normalize.less` sets `[hidden] { display: none; }` but bootstrap.min.css set `[hidden] { display: none !important; }` so we also need the `!important` here to be able to override the default hidden behavior on the sphinx rendered scikit-learn.org. See: https://github.com/scikit-learn/scikit-learn/issues/21755 */display: inline-block !important;position: relative;}#sk-container-id-2 div.sk-text-repr-fallback {display: none;}</style><div id=\"sk-container-id-2\" class=\"sk-top-container\"><div class=\"sk-text-repr-fallback\"><pre>LabelEncoder()</pre><b>In a Jupyter environment, please rerun this cell to show the HTML representation or trust the notebook. <br />On GitHub, the HTML representation is unable to render, please try loading this page with nbviewer.org.</b></div><div class=\"sk-container\" hidden><div class=\"sk-item\"><div class=\"sk-estimator sk-toggleable\"><input class=\"sk-toggleable__control sk-hidden--visually\" id=\"sk-estimator-id-2\" type=\"checkbox\" checked><label for=\"sk-estimator-id-2\" class=\"sk-toggleable__label sk-toggleable__label-arrow\">LabelEncoder</label><div class=\"sk-toggleable__content\"><pre>LabelEncoder()</pre></div></div></div></div></div>"
      ],
      "text/plain": [
       "LabelEncoder()"
      ]
     },
     "execution_count": 37,
     "metadata": {},
     "output_type": "execute_result"
    }
   ],
   "source": [
    "with open(vocab_path, \"rb\") as input_file:\n",
    "    vocab = pickle.load(input_file)\n",
    "le = LabelEncoder()\n",
    "le.fit([\"<SOC>\", \"<EOC>\"])\n",
    "le.fit(list(vocab))\n"
   ]
  },
  {
   "cell_type": "code",
   "execution_count": 38,
   "metadata": {},
   "outputs": [],
   "source": [
    "def process_and_encode(text):\n",
    "    tokenizer = CTokenizer()\n",
    "    all_tokens = tokenizer.tokenize(text)\n",
    "    filtered = [token for token in all_tokens if token.token_value in vocab]\n",
    "    values = [token.token_value for token in filtered]\n",
    "    lines = [token.line for token in filtered]\n",
    "    code = torch.tensor(le.transform(values))\n",
    "    return code, lines"
   ]
  },
  {
   "cell_type": "code",
   "execution_count": 33,
   "metadata": {},
   "outputs": [],
   "source": [
    "C_SAMPLE = \"\"\"void test(void)\n",
    "{\n",
    "        char buf[MAXSIZE];\n",
    "        cin>>buf;\n",
    "        cout<<buf<<endl;\n",
    "}\"\"\""
   ]
  },
  {
   "cell_type": "code",
   "execution_count": 12,
   "metadata": {},
   "outputs": [],
   "source": [
    "HIDDEN_SIZE_CONTROLLER = 8\n",
    "EMBED_DIM = 164\n",
    "HIDDEN_SIZE_STACK = 8"
   ]
  },
  {
   "cell_type": "code",
   "execution_count": 13,
   "metadata": {},
   "outputs": [
    {
     "data": {
      "text/plain": [
       "StackLSTM(\n",
       "  (embedding): Embedding(10001, 164)\n",
       "  (controller): LSTMCell(172, 8)\n",
       "  (output_linear): Linear(in_features=8, out_features=10001, bias=True)\n",
       "  (softmax): Softmax(dim=None)\n",
       "  (push_fc): Linear(in_features=8, out_features=1, bias=True)\n",
       "  (pop_fc): Linear(in_features=8, out_features=1, bias=True)\n",
       "  (values_fc): Linear(in_features=8, out_features=8, bias=True)\n",
       "  (classifier): Linear(in_features=10001, out_features=1, bias=True)\n",
       "  (sigmoid): Sigmoid()\n",
       ")"
      ]
     },
     "execution_count": 13,
     "metadata": {},
     "output_type": "execute_result"
    }
   ],
   "source": [
    "model = StackLSTM(embedding_size=len(vocab),\n",
    "                  embedding_dim=EMBED_DIM,\n",
    "                  hidden_size_controller=HIDDEN_SIZE_CONTROLLER,\n",
    "                  hidden_size_stack=HIDDEN_SIZE_STACK,\n",
    "                  batch_size=1,\n",
    "                  label_encoder=le)\n",
    "model.load_state_dict(torch.load(\"model_7\"))\n",
    "model.eval()"
   ]
  },
  {
   "cell_type": "code",
   "execution_count": 39,
   "metadata": {},
   "outputs": [
    {
     "data": {
      "text/plain": [
       "tensor([[0.5789]], grad_fn=<SigmoidBackward0>)"
      ]
     },
     "execution_count": 39,
     "metadata": {},
     "output_type": "execute_result"
    }
   ],
   "source": [
    "code, lines = process_and_encode(C_SAMPLE)\n",
    "\n",
    "model(code.unsqueeze(1))"
   ]
  },
  {
   "cell_type": "code",
   "execution_count": 43,
   "metadata": {},
   "outputs": [],
   "source": [
    "import csv\n",
    "csv.field_size_limit(1000000000)\n",
    "groundtruth = {}\n",
    "with open(\"../test.csv\", 'r', newline='') as csvfile:\n",
    "        reader = csv.DictReader(csvfile)\n",
    "        for row in reader:\n",
    "            if row[\"target\"] == \"0\":\n",
    "                continue\n",
    "            if row[\"flaw_line\"] is None:\n",
    "                 continue\n",
    "            groundtruth[row[\"index\"]] = row[\"flaw_line\"].split(\"/~/\")"
   ]
  },
  {
   "cell_type": "code",
   "execution_count": 41,
   "metadata": {},
   "outputs": [],
   "source": [
    "import re\n",
    "\n",
    "@torch.no_grad()\n",
    "def sort_lines(scores):\n",
    "    _, indices = torch.sort(torch.as_tensor(scores), descending=True)\n",
    "    return indices.tolist()\n",
    "\n",
    "\n",
    "def get_flaw_indices(lines, flaw_lines):\n",
    "    indices = []\n",
    "    def clean(line):\n",
    "        # line = re.sub(\"^\\s\", \"\", line)\n",
    "        # line = re.sub(\"\\s$\", \"\", line)\n",
    "        line = re.sub(\"\\s\", \"\", line)\n",
    "        return line\n",
    "    flaw_lines = [clean(flaw_line) for flaw_line in flaw_lines if len(clean(flaw_line)) != 0]\n",
    "    lines = [clean(line) for line in lines]\n",
    "\n",
    "    for i, line in enumerate(lines):\n",
    "        if len(line) == 0:\n",
    "            continue\n",
    "        if any(line in flaw_line for flaw_line in flaw_lines) or \\\n",
    "            any(flaw_line in line for flaw_line in flaw_lines):\n",
    "            indices.append(i)\n",
    "    return indices\n",
    "\n",
    "\n",
    "def min_rank_of_indices(sorted_indices, searched_indices):\n",
    "    rank_mapping = {index: rank for rank, index in enumerate(sorted_indices)}\n",
    "    return min(\n",
    "        (rank_mapping[index] for index in searched_indices if index in rank_mapping),\n",
    "        default=float(\"inf\"),\n",
    "    )\n",
    "\n",
    "def get_c_lines(idx, set=\"test\", label=1):\n",
    "    with open(f\"../data/test/{set}/{idx}_{label}.c\", \"r\", encoding=\"utf-8\") as f:\n",
    "        return f.readlines()"
   ]
  },
  {
   "cell_type": "code",
   "execution_count": 130,
   "metadata": {},
   "outputs": [],
   "source": [
    "from torchray.attribution.common import (\n",
    "    NullContext,\n",
    "    gradient_to_saliency,\n",
    "    get_backward_gradient,\n",
    "    attach_debug_probes,\n",
    "    get_module,\n",
    "    Probe,\n",
    "    resize_saliency,\n",
    "    imsmooth,\n",
    ")\n",
    "\n",
    "def gradient_to_grad_cam_saliency(x):\n",
    "    r\"\"\"Convert activation and gradient to a Grad-CAM saliency map.\n",
    "    The tensor :attr:`x` must have a valid gradient ``x.grad``.\n",
    "    The function then computes the saliency map :math:`s`: given by:\n",
    "    .. math::\n",
    "        s_{n1u} = \\max\\{0, \\sum_{c}x_{ncu}\\cdot dx_{ncu}\\}\n",
    "    Args:\n",
    "        x (:class:`torch.Tensor`): activation tensor with a valid gradient.\n",
    "    Returns:\n",
    "        :class:`torch.Tensor`: saliency map.\n",
    "    \"\"\"\n",
    "    # Apply global average pooling (GAP) to gradient.\n",
    "    grad_weight = torch.mean(x.grad, (0, 1), keepdim=True)\n",
    "\n",
    "    # Linearly combine activations and GAP gradient weights.\n",
    "    saliency_map = torch.sum(grad_weight * x, 2, keepdim=True)\n",
    "    return saliency_map\n",
    "\n",
    "def saliency(model,\n",
    "             input,\n",
    "             target,\n",
    "             saliency_layer='',\n",
    "             resize=False,\n",
    "             resize_mode='bilinear',\n",
    "             smooth=0,\n",
    "             context_builder=NullContext,\n",
    "             gradient_to_saliency=gradient_to_saliency,\n",
    "             get_backward_gradient=get_backward_gradient,\n",
    "             debug=False):\n",
    "    \"\"\"\n",
    "    monkey-patch torchray saliency\n",
    "    \"\"\"\n",
    "\n",
    "    # Clear any existing gradient.\n",
    "    # if input.grad is not None:\n",
    "    #     input.grad.data.zero_()\n",
    "\n",
    "    # Disable gradients for model parameters.\n",
    "    # orig_requires_grad = {}\n",
    "    # for name, param in model.named_parameters():\n",
    "    #     orig_requires_grad[name] = param.requires_grad\n",
    "    #     param.requires_grad_(False)\n",
    "\n",
    "    # Set model to eval mode.\n",
    "    model.train()\n",
    "    if model.training:\n",
    "        orig_is_training = True\n",
    "        # model.eval()\n",
    "    else:\n",
    "        orig_is_training = False\n",
    "\n",
    "    # Attach debug probes to every module.\n",
    "    debug_probes = attach_debug_probes(model, debug=debug)\n",
    "\n",
    "    # Attach a probe to the saliency layer.\n",
    "    probe_target = 'input' if saliency_layer == '' else 'output'\n",
    "    saliency_layer = get_module(model, saliency_layer)\n",
    "    assert saliency_layer is not None, 'We could not find the saliency layer'\n",
    "    probe = Probe(saliency_layer, target=\"output\")\n",
    "\n",
    "    # Do a forward and backward pass.\n",
    "    with context_builder():\n",
    "        output = model(input)\n",
    "        # backward_gradient = get_backward_gradient(output, target)\n",
    "        output.backward()\n",
    "\n",
    "    # Get saliency map from gradient.\n",
    "    saliency_map = gradient_to_saliency(probe.data[0])\n",
    "\n",
    "    # Resize saliency map.\n",
    "    # saliency_map = resize_saliency(input,\n",
    "    #                                saliency_map,\n",
    "    #                                resize,\n",
    "    #                                mode=resize_mode)\n",
    "\n",
    "    # Smooth saliency map.\n",
    "    # if smooth > 0:\n",
    "        # saliency_map = imsmooth(\n",
    "        #     saliency_map,\n",
    "        #     sigma=smooth * max(saliency_map.shape[2:]),\n",
    "        #     padding_mode='replicate'\n",
    "        # )\n",
    "\n",
    "    # Remove probe.\n",
    "    probe.remove()\n",
    "\n",
    "    # Restore gradient saving for model parameters.\n",
    "    # for name, param in model.named_parameters():\n",
    "    #     param.requires_grad_(orig_requires_grad[name])\n",
    "\n",
    "    # Restore model's original mode.\n",
    "    if orig_is_training:\n",
    "        model.train()\n",
    "\n",
    "    return saliency_map\n",
    "\n",
    "def grad_cam(*args,\n",
    "             saliency_layer,\n",
    "             gradient_to_saliency=gradient_to_grad_cam_saliency,\n",
    "             **kwargs):\n",
    "    return saliency(*args,\n",
    "                    saliency_layer=saliency_layer,\n",
    "                    gradient_to_saliency=gradient_to_saliency,\n",
    "                    **kwargs,)"
   ]
  },
  {
   "cell_type": "code",
   "execution_count": 48,
   "metadata": {},
   "outputs": [],
   "source": [
    "with open(\"../data/merged.txt\", \"r\") as f:\n",
    "    successful_idxs = set(f.read().split(\"\\n\"))"
   ]
  },
  {
   "cell_type": "code",
   "execution_count": 77,
   "metadata": {},
   "outputs": [],
   "source": [
    "from tqdm import tqdm"
   ]
  },
  {
   "cell_type": "code",
   "execution_count": 134,
   "metadata": {},
   "outputs": [],
   "source": [
    "def eval_linelevel_merged(C_SET):\n",
    "    ranks = []\n",
    "    print(f\"Evaluating {C_SET}\")\n",
    "    for name in tqdm(list(map(lambda idx: f\"../data/test/{C_SET}/{idx}_1.c\", successful_idxs))):\n",
    "        idx = name.split(\"/\")[-1].split(\"_\")[0]\n",
    "        if idx not in groundtruth:\n",
    "            continue\n",
    "\n",
    "        c_lines = get_c_lines(idx, C_SET)\n",
    "        flaw_indices = get_flaw_indices(c_lines, groundtruth[idx])\n",
    "        if len(flaw_indices) < 1:\n",
    "            continue\n",
    "\n",
    "        target = torch.tensor([1.], requires_grad=True)\n",
    "        data, lines = process_and_encode(\"\".join(c_lines))\n",
    "        token_c = grad_cam(model, data.unsqueeze(1), target.long(), saliency_layer=\"embedding\")\n",
    "        token_mask = token_c.sigmoid()[:, 0, 0]\n",
    "\n",
    "        linescores = defaultdict(int)\n",
    "        for token_idx, score in enumerate(token_mask):\n",
    "            line = lines[token_idx]\n",
    "            linescores[line] += score\n",
    "        \n",
    "        lines = [0 for _ in range(max(linescores.keys()))]\n",
    "        for line, score in linescores.items():\n",
    "            lines[line-1] = score\n",
    "        \n",
    "        sorted_lines = sort_lines(lines)\n",
    "        rank = min_rank_of_indices(sorted_lines, flaw_indices)\n",
    "        ranks.append(rank)\n",
    "    \n",
    "    ranks = torch.as_tensor(ranks)\n",
    "    ranks = ranks[ranks.isfinite()]\n",
    "    \n",
    "    def topk_acc(k):\n",
    "            return round((\n",
    "                torch.sum(ranks < k) / len(ranks)\n",
    "            ).item() * 100, 2)\n",
    "    print({\n",
    "        \"Top1-Acc\": topk_acc(1),\n",
    "        \"Top3-Acc\": topk_acc(3),\n",
    "        \"Top5-Acc\": topk_acc(5),\n",
    "    })"
   ]
  },
  {
   "cell_type": "code",
   "execution_count": 133,
   "metadata": {},
   "outputs": [],
   "source": [
    "idx = \"178360\"\n",
    "c_lines = get_c_lines(idx, \"test\")\n",
    "flaw_indices = get_flaw_indices(c_lines, groundtruth[idx])\n",
    "\n",
    "target = torch.tensor([1.], requires_grad=True)\n",
    "data, lines = process_and_encode(\"\".join(c_lines))\n",
    "token_c = grad_cam(model, data.unsqueeze(1), target.long(), saliency_layer=\"embedding\")\n",
    "token_mask = token_c.sigmoid()[:, 0, 0]\n",
    "\n",
    "linescores = defaultdict(int)\n",
    "for token_idx, score in enumerate(token_mask):\n",
    "    line = lines[token_idx]\n",
    "    linescores[line] += score\n",
    "\n",
    "lines = [0 for _ in range(max(linescores.keys()))]\n",
    "for line, score in linescores.items():\n",
    "    lines[line-1] = score\n",
    "\n",
    "sorted_lines = sort_lines(lines)\n",
    "rank = min_rank_of_indices(sorted_lines, flaw_indices)"
   ]
  },
  {
   "cell_type": "code",
   "execution_count": 135,
   "metadata": {},
   "outputs": [
    {
     "name": "stdout",
     "output_type": "stream",
     "text": [
      "Evaluating test\n"
     ]
    },
    {
     "name": "stderr",
     "output_type": "stream",
     "text": [
      "100%|██████████| 181/181 [04:51<00:00,  1.61s/it]"
     ]
    },
    {
     "name": "stdout",
     "output_type": "stream",
     "text": [
      "{'Top1-Acc': 39.23, 'Top3-Acc': 58.56, 'Top5-Acc': 66.3}\n"
     ]
    },
    {
     "name": "stderr",
     "output_type": "stream",
     "text": [
      "\n"
     ]
    }
   ],
   "source": [
    "eval_linelevel_merged(\"test\")"
   ]
  },
  {
   "cell_type": "code",
   "execution_count": 136,
   "metadata": {},
   "outputs": [
    {
     "name": "stdout",
     "output_type": "stream",
     "text": [
      "Evaluating apply_codestyle_Chromium\n"
     ]
    },
    {
     "name": "stderr",
     "output_type": "stream",
     "text": [
      "100%|██████████| 181/181 [06:06<00:00,  2.03s/it]"
     ]
    },
    {
     "name": "stdout",
     "output_type": "stream",
     "text": [
      "{'Top1-Acc': 45.86, 'Top3-Acc': 60.77, 'Top5-Acc': 69.61}\n"
     ]
    },
    {
     "name": "stderr",
     "output_type": "stream",
     "text": [
      "\n"
     ]
    }
   ],
   "source": [
    "eval_linelevel_merged(\"apply_codestyle_Chromium\")"
   ]
  },
  {
   "cell_type": "code",
   "execution_count": 137,
   "metadata": {},
   "outputs": [
    {
     "name": "stdout",
     "output_type": "stream",
     "text": [
      "Evaluating apply_codestyle_Mozilla\n"
     ]
    },
    {
     "name": "stderr",
     "output_type": "stream",
     "text": [
      "100%|██████████| 181/181 [05:55<00:00,  1.96s/it]"
     ]
    },
    {
     "name": "stdout",
     "output_type": "stream",
     "text": [
      "{'Top1-Acc': 44.2, 'Top3-Acc': 60.77, 'Top5-Acc': 70.17}\n"
     ]
    },
    {
     "name": "stderr",
     "output_type": "stream",
     "text": [
      "\n"
     ]
    }
   ],
   "source": [
    "eval_linelevel_merged(\"apply_codestyle_Mozilla\")"
   ]
  },
  {
   "cell_type": "code",
   "execution_count": 138,
   "metadata": {},
   "outputs": [
    {
     "name": "stdout",
     "output_type": "stream",
     "text": [
      "Evaluating apply_codestyle_Google\n"
     ]
    },
    {
     "name": "stderr",
     "output_type": "stream",
     "text": [
      "100%|██████████| 181/181 [03:31<00:00,  1.17s/it]"
     ]
    },
    {
     "name": "stdout",
     "output_type": "stream",
     "text": [
      "{'Top1-Acc': 45.3, 'Top3-Acc': 61.88, 'Top5-Acc': 69.61}\n"
     ]
    },
    {
     "name": "stderr",
     "output_type": "stream",
     "text": [
      "\n"
     ]
    }
   ],
   "source": [
    "eval_linelevel_merged(\"apply_codestyle_Google\")"
   ]
  },
  {
   "cell_type": "code",
   "execution_count": 139,
   "metadata": {},
   "outputs": [
    {
     "name": "stdout",
     "output_type": "stream",
     "text": [
      "Evaluating apply_codestyle_LLVM\n"
     ]
    },
    {
     "name": "stderr",
     "output_type": "stream",
     "text": [
      "100%|██████████| 181/181 [03:25<00:00,  1.13s/it]"
     ]
    },
    {
     "name": "stdout",
     "output_type": "stream",
     "text": [
      "{'Top1-Acc': 44.2, 'Top3-Acc': 60.77, 'Top5-Acc': 69.61}\n"
     ]
    },
    {
     "name": "stderr",
     "output_type": "stream",
     "text": [
      "\n"
     ]
    }
   ],
   "source": [
    "eval_linelevel_merged(\"apply_codestyle_LLVM\")"
   ]
  },
  {
   "cell_type": "code",
   "execution_count": 140,
   "metadata": {},
   "outputs": [
    {
     "name": "stdout",
     "output_type": "stream",
     "text": [
      "Evaluating apply_codestyle_GNU\n"
     ]
    },
    {
     "name": "stderr",
     "output_type": "stream",
     "text": [
      "100%|██████████| 181/181 [03:03<00:00,  1.01s/it]"
     ]
    },
    {
     "name": "stdout",
     "output_type": "stream",
     "text": [
      "{'Top1-Acc': 39.78, 'Top3-Acc': 59.67, 'Top5-Acc': 67.4}\n"
     ]
    },
    {
     "name": "stderr",
     "output_type": "stream",
     "text": [
      "\n"
     ]
    }
   ],
   "source": [
    "eval_linelevel_merged(\"apply_codestyle_GNU\")"
   ]
  }
 ],
 "metadata": {
  "kernelspec": {
   "display_name": "venv",
   "language": "python",
   "name": "python3"
  },
  "language_info": {
   "codemirror_mode": {
    "name": "ipython",
    "version": 3
   },
   "file_extension": ".py",
   "mimetype": "text/x-python",
   "name": "python",
   "nbconvert_exporter": "python",
   "pygments_lexer": "ipython3",
   "version": "3.8.10"
  },
  "orig_nbformat": 4
 },
 "nbformat": 4,
 "nbformat_minor": 2
}
