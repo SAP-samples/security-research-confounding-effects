{
 "cells": [
  {
   "cell_type": "code",
   "execution_count": 1,
   "metadata": {},
   "outputs": [],
   "source": [
    "from model import get_classification_model\n",
    "from torch_geometric.data import Data\n",
    "import glob\n",
    "from tqdm import tqdm\n",
    "import torch"
   ]
  },
  {
   "cell_type": "code",
   "execution_count": 2,
   "metadata": {},
   "outputs": [],
   "source": [
    "import pickle\n",
    "import gzip"
   ]
  },
  {
   "cell_type": "code",
   "execution_count": 3,
   "metadata": {},
   "outputs": [],
   "source": [
    "BASELINE_GIN_CLASSIFIER = {\n",
    "    \"type\": \"GraphClassifier\",\n",
    "    \"name\": \"BASELINE_GIN\",\n",
    "    \"encoder\": {\n",
    "        \"type\": \"GraphComposite\",\n",
    "        \"pooling\": {\n",
    "            \"type\": \"sum\"\n",
    "        },\n",
    "        \"encoder\": {\n",
    "            \"num_layers\": 3,\n",
    "            \"hidden_channels\": 128,\n",
    "            \"layer_type\": \"CGIN\",\n",
    "            \"norm_type\": \"None\",\n",
    "\n",
    "        }\n",
    "    },\n",
    "    \"classifier\": {\n",
    "        \"layer_type\": \"MLP\",\n",
    "        \"dropout\": 0.5,\n",
    "        \"num_layers\": 3\n",
    "    }\n",
    "}"
   ]
  },
  {
   "cell_type": "code",
   "execution_count": 4,
   "metadata": {},
   "outputs": [],
   "source": [
    "BASELINE_GIN_CLASSIFIER[\"features\"] = 150\n",
    "BASELINE_GIN_CLASSIFIER[\"classes\"] = 1\n",
    "model = get_classification_model(BASELINE_GIN_CLASSIFIER).encoder.node_level_encoder"
   ]
  },
  {
   "cell_type": "code",
   "execution_count": 5,
   "metadata": {},
   "outputs": [],
   "source": [
    "model.load_state_dict(torch.load(\"14_model.chkpt\"))\n",
    "model.eval()\n",
    "None"
   ]
  },
  {
   "cell_type": "code",
   "execution_count": 15,
   "metadata": {},
   "outputs": [
    {
     "name": "stderr",
     "output_type": "stream",
     "text": [
      "100%|██████████| 19218/19218 [10:44<00:00, 29.82it/s]\n"
     ]
    }
   ],
   "source": [
    "preds_c = []\n",
    "preds_o = []\n",
    "preds_co = []\n",
    "trues = []\n",
    "for name in tqdm(glob.glob(f\"../cache/REVEAL3/*.cpg.pt.gz\")):\n",
    "    idx = name.split(\"/\")[-1].split(\"_\")[0]\n",
    "    label = int(name.split(\"/\")[-1].split(\"_\")[-1].split(\".\")[0])\n",
    "\n",
    "    object_file = pickle.load(gzip.open(name))\n",
    "    data = Data(x=torch.cat((object_file[\"astenc\"], object_file[\"codeenc\"]), dim=1), edge_index=object_file[\"edge_index\"], y=object_file[\"y\"])\n",
    "    data.edge_index = data.edge_index.long()\n",
    "    data.x = data.x.float()\n",
    "    c_logs, o_logs, co_logs = model(data)\n",
    "\n",
    "    preds_c.append(c_logs.squeeze().argmax().item())\n",
    "    preds_o.append(o_logs.squeeze().argmax().item())\n",
    "    preds_co.append(co_logs.squeeze().argmax().item())\n",
    "    trues.append(label)"
   ]
  },
  {
   "cell_type": "code",
   "execution_count": 16,
   "metadata": {},
   "outputs": [],
   "source": [
    "from sklearn.metrics import matthews_corrcoef, accuracy_score, f1_score, balanced_accuracy_score\n",
    "\n",
    "def compute_metrics(pred, true):\n",
    "    predicted = (torch.as_tensor(pred) > 0.5).long().tolist()\n",
    "    return {\n",
    "        \"MCC\": matthews_corrcoef(true, predicted),\n",
    "        \"F1\": f1_score(true, predicted, average='macro'),\n",
    "        \"Acc\": accuracy_score(true, predicted),\n",
    "        \"BAcc\": balanced_accuracy_score(true, predicted),\n",
    "    }"
   ]
  },
  {
   "cell_type": "code",
   "execution_count": 17,
   "metadata": {},
   "outputs": [
    {
     "data": {
      "text/plain": [
       "{'MCC': -0.1354440204735427,\n",
       " 'F1': 0.3315053048525221,\n",
       " 'Acc': 0.4048808408783432,\n",
       " 'BAcc': 0.38825360819983235}"
      ]
     },
     "execution_count": 17,
     "metadata": {},
     "output_type": "execute_result"
    }
   ],
   "source": [
    "compute_metrics(preds_c, trues)"
   ]
  },
  {
   "cell_type": "code",
   "execution_count": 18,
   "metadata": {},
   "outputs": [
    {
     "data": {
      "text/plain": [
       "{'MCC': 0.1316591703907932,\n",
       " 'F1': 0.4754380646104019,\n",
       " 'Acc': 0.5850764907898844,\n",
       " 'BAcc': 0.6089379838512485}"
      ]
     },
     "execution_count": 18,
     "metadata": {},
     "output_type": "execute_result"
    }
   ],
   "source": [
    "compute_metrics(preds_o, trues)"
   ]
  },
  {
   "cell_type": "code",
   "execution_count": 19,
   "metadata": {},
   "outputs": [
    {
     "data": {
      "text/plain": [
       "{'MCC': 0.13880975014120056,\n",
       " 'F1': 0.4649761640317789,\n",
       " 'Acc': 0.5615048392132376,\n",
       " 'BAcc': 0.6154728533588254}"
      ]
     },
     "execution_count": 19,
     "metadata": {},
     "output_type": "execute_result"
    }
   ],
   "source": [
    "compute_metrics(preds_co, trues)"
   ]
  }
 ],
 "metadata": {
  "kernelspec": {
   "display_name": "venv",
   "language": "python",
   "name": "python3"
  },
  "language_info": {
   "codemirror_mode": {
    "name": "ipython",
    "version": 3
   },
   "file_extension": ".py",
   "mimetype": "text/x-python",
   "name": "python",
   "nbconvert_exporter": "python",
   "pygments_lexer": "ipython3",
   "version": "3.8.10"
  },
  "orig_nbformat": 4
 },
 "nbformat": 4,
 "nbformat_minor": 2
}
