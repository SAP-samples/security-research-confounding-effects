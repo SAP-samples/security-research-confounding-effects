{
 "cells": [
  {
   "cell_type": "code",
   "execution_count": 1,
   "metadata": {},
   "outputs": [],
   "source": [
    "from model import get_classification_model\n",
    "from torch_geometric.data import Data\n",
    "import glob\n",
    "from tqdm import tqdm\n",
    "import torch"
   ]
  },
  {
   "cell_type": "code",
   "execution_count": 2,
   "metadata": {},
   "outputs": [],
   "source": [
    "BASELINE_GIN_CLASSIFIER = {\n",
    "    \"type\": \"GraphClassifier\",\n",
    "    \"name\": \"BASELINE_GIN\",\n",
    "    \"encoder\": {\n",
    "        \"type\": \"GraphComposite\",\n",
    "        \"pooling\": {\n",
    "            \"type\": \"sum\"\n",
    "        },\n",
    "        \"encoder\": {\n",
    "            \"num_layers\": 3,\n",
    "            \"hidden_channels\": 128,\n",
    "            \"layer_type\": \"CGIN\",\n",
    "            \"norm_type\": \"None\",\n",
    "\n",
    "        }\n",
    "    },\n",
    "    \"classifier\": {\n",
    "        \"layer_type\": \"MLP\",\n",
    "        \"dropout\": 0.5,\n",
    "        \"num_layers\": 3\n",
    "    }\n",
    "}"
   ]
  },
  {
   "cell_type": "code",
   "execution_count": 3,
   "metadata": {},
   "outputs": [],
   "source": [
    "BASELINE_GIN_CLASSIFIER[\"features\"] = 150\n",
    "BASELINE_GIN_CLASSIFIER[\"classes\"] = 1\n",
    "model = get_classification_model(BASELINE_GIN_CLASSIFIER).encoder.node_level_encoder"
   ]
  },
  {
   "cell_type": "code",
   "execution_count": 4,
   "metadata": {},
   "outputs": [],
   "source": [
    "model.load_state_dict(torch.load(\"14_model.chkpt\"))\n",
    "model.eval()\n",
    "None"
   ]
  },
  {
   "cell_type": "code",
   "execution_count": 5,
   "metadata": {},
   "outputs": [],
   "source": [
    "import os\n",
    "import pickle\n",
    "import gzip\n",
    "from collections import defaultdict"
   ]
  },
  {
   "cell_type": "code",
   "execution_count": 6,
   "metadata": {},
   "outputs": [],
   "source": [
    "from datasets import Dataset"
   ]
  },
  {
   "cell_type": "code",
   "execution_count": 17,
   "metadata": {},
   "outputs": [],
   "source": [
    "from sklearn.metrics import matthews_corrcoef, accuracy_score, f1_score, balanced_accuracy_score\n",
    "\n",
    "def compute_metrics(pred, true):\n",
    "    predicted = torch.as_tensor(pred).argmax(dim=-1).tolist()\n",
    "    return {\n",
    "        \"MCC\": matthews_corrcoef(true, predicted),\n",
    "        \"F1\": f1_score(true, predicted, average='macro'),\n",
    "        \"Acc\": accuracy_score(true, predicted),\n",
    "        \"BAcc\": balanced_accuracy_score(true, predicted),\n",
    "    }"
   ]
  },
  {
   "cell_type": "code",
   "execution_count": 18,
   "metadata": {},
   "outputs": [],
   "source": [
    "@torch.no_grad()\n",
    "def eval(CPG_SET, dataset_name):\n",
    "    print(f\"Evaluating {CPG_SET}\")\n",
    "    preds_c = []\n",
    "    preds_o = []\n",
    "    preds_co = []\n",
    "    trues = []\n",
    "    index = []\n",
    "    for name in tqdm(glob.glob(f\"../cache/{CPG_SET}/*.cpg.pt.gz\")):\n",
    "        idx = name.split(\"/\")[-1].split(\"_\")[0]\n",
    "        label = int(name.split(\"/\")[-1].split(\"_\")[-1].split(\".\")[0])\n",
    "\n",
    "        object_file = pickle.load(gzip.open(name))\n",
    "        data = Data(x=torch.cat((object_file[\"astenc\"], object_file[\"codeenc\"]), dim=1), edge_index=object_file[\"edge_index\"], y=object_file[\"y\"])\n",
    "        data.edge_index = data.edge_index.long()\n",
    "        data.x = data.x.float()\n",
    "        c_logs, o_logs, co_logs = model(data)\n",
    "\n",
    "        preds_co.append(co_logs.squeeze().tolist())\n",
    "        trues.append(label)\n",
    "        index.append(int(idx))\n",
    "    print(compute_metrics(preds_co, trues))\n",
    "    data = Dataset.from_dict({\n",
    "        \"index\": index,\n",
    "        \"pred\": preds_co,\n",
    "        \"true\": trues,\n",
    "    })\n",
    "    data.save_to_disk(os.path.join(\"report/prediction/cgin\", dataset_name))"
   ]
  },
  {
   "cell_type": "code",
   "execution_count": 19,
   "metadata": {},
   "outputs": [
    {
     "name": "stdout",
     "output_type": "stream",
     "text": [
      "Evaluating LINEVUL_TEST\n"
     ]
    },
    {
     "name": "stderr",
     "output_type": "stream",
     "text": [
      "100%|██████████| 9960/9960 [03:06<00:00, 53.33it/s]\n"
     ]
    },
    {
     "name": "stdout",
     "output_type": "stream",
     "text": [
      "{'MCC': 0.1257080527035215, 'F1': 0.46966261116479, 'Acc': 0.6399598393574297, 'BAcc': 0.6285108767801137}\n"
     ]
    },
    {
     "data": {
      "application/vnd.jupyter.widget-view+json": {
       "model_id": "f82360f62b6342c5aa29ddee993901a3",
       "version_major": 2,
       "version_minor": 0
      },
      "text/plain": [
       "Saving the dataset (0/1 shards):   0%|          | 0/9960 [00:00<?, ? examples/s]"
      ]
     },
     "metadata": {},
     "output_type": "display_data"
    }
   ],
   "source": [
    "eval(\"LINEVUL_TEST\", \"test\")"
   ]
  },
  {
   "cell_type": "code",
   "execution_count": 22,
   "metadata": {},
   "outputs": [],
   "source": [
    "DATASETS = [\n",
    "    # (\"LINEVUL_TEST\", \"test\"),\n",
    "    # (\"LINEVUL_CHROMIUM\", \"perturbed-data/apply_codestyle_Chromium\"),\n",
    "    # (\"LINEVUL_GOOGLE\", \"perturbed-data/apply_codestyle_Google\"),\n",
    "    # (\"LINEVUL_LLVM\", \"perturbed-data/apply_codestyle_LLVM\"),\n",
    "    # (\"LINEVUL_MOZILLA\", \"perturbed-data/apply_codestyle_Mozilla\"),\n",
    "    # (\"LINEVUL_COBFUSCATE\", \"perturbed-data/apply_cobfuscate\"),\n",
    "    # (\"LINEVUL_DOUBLE_OBFUSCATE\", \"perturbed-data/double_obfuscate\"),\n",
    "    (\"LINEVUL_OBFUSCATE_STLYE\", \"perturbed-data/obfuscate_then_style\"),\n",
    "    (\"LINEVUL_PYOBFUSCATE_STLYE\", \"perturbed-data/py_obfuscate_then_style\"),\n",
    "    (\"LINEVUL_PYOBFUSCATOR\", \"perturbed-data/apply_py_obfuscator\"),\n",
    "]"
   ]
  },
  {
   "cell_type": "code",
   "execution_count": 23,
   "metadata": {},
   "outputs": [
    {
     "name": "stdout",
     "output_type": "stream",
     "text": [
      "Evaluating LINEVUL_OBFUSCATE_STLYE\n"
     ]
    },
    {
     "name": "stderr",
     "output_type": "stream",
     "text": [
      "100%|██████████| 18337/18337 [05:55<00:00, 51.57it/s]"
     ]
    },
    {
     "name": "stdout",
     "output_type": "stream",
     "text": [
      "{'MCC': 0.039493698776597176, 'F1': 0.39617867339043356, 'Acc': 0.5277308174728691, 'BAcc': 0.5435254367333818}\n"
     ]
    },
    {
     "name": "stderr",
     "output_type": "stream",
     "text": [
      "\n"
     ]
    },
    {
     "data": {
      "application/vnd.jupyter.widget-view+json": {
       "model_id": "6ed382bc450d4c32acbd19b8c87dfa39",
       "version_major": 2,
       "version_minor": 0
      },
      "text/plain": [
       "Saving the dataset (0/1 shards):   0%|          | 0/18337 [00:00<?, ? examples/s]"
      ]
     },
     "metadata": {},
     "output_type": "display_data"
    },
    {
     "name": "stdout",
     "output_type": "stream",
     "text": [
      "Evaluating LINEVUL_PYOBFUSCATE_STLYE\n"
     ]
    },
    {
     "name": "stderr",
     "output_type": "stream",
     "text": [
      "100%|██████████| 9229/9229 [03:15<00:00, 47.25it/s]"
     ]
    },
    {
     "name": "stdout",
     "output_type": "stream",
     "text": [
      "{'MCC': 0.12472308710013363, 'F1': 0.48075173717105013, 'Acc': 0.6618268501462781, 'BAcc': 0.6237069248113657}\n"
     ]
    },
    {
     "name": "stderr",
     "output_type": "stream",
     "text": [
      "\n"
     ]
    },
    {
     "data": {
      "application/vnd.jupyter.widget-view+json": {
       "model_id": "b3b38f24dc5d4f9b99defb309b637998",
       "version_major": 2,
       "version_minor": 0
      },
      "text/plain": [
       "Saving the dataset (0/1 shards):   0%|          | 0/9229 [00:00<?, ? examples/s]"
      ]
     },
     "metadata": {},
     "output_type": "display_data"
    },
    {
     "name": "stdout",
     "output_type": "stream",
     "text": [
      "Evaluating LINEVUL_PYOBFUSCATOR\n"
     ]
    },
    {
     "name": "stderr",
     "output_type": "stream",
     "text": [
      "100%|██████████| 9180/9180 [03:00<00:00, 50.90it/s]"
     ]
    },
    {
     "name": "stdout",
     "output_type": "stream",
     "text": [
      "{'MCC': 0.12138238909927683, 'F1': 0.4760317610289567, 'Acc': 0.6535947712418301, 'BAcc': 0.6213756078009471}\n"
     ]
    },
    {
     "name": "stderr",
     "output_type": "stream",
     "text": [
      "\n"
     ]
    },
    {
     "data": {
      "application/vnd.jupyter.widget-view+json": {
       "model_id": "76001942483248a8bfe8a4391c67b953",
       "version_major": 2,
       "version_minor": 0
      },
      "text/plain": [
       "Saving the dataset (0/1 shards):   0%|          | 0/9180 [00:00<?, ? examples/s]"
      ]
     },
     "metadata": {},
     "output_type": "display_data"
    }
   ],
   "source": [
    "for cpg_path, dataset_name in DATASETS:\n",
    "    eval(cpg_path, dataset_name)"
   ]
  }
 ],
 "metadata": {
  "kernelspec": {
   "display_name": "venv",
   "language": "python",
   "name": "python3"
  },
  "language_info": {
   "codemirror_mode": {
    "name": "ipython",
    "version": 3
   },
   "file_extension": ".py",
   "mimetype": "text/x-python",
   "name": "python",
   "nbconvert_exporter": "python",
   "pygments_lexer": "ipython3",
   "version": "3.8.10"
  },
  "orig_nbformat": 4
 },
 "nbformat": 4,
 "nbformat_minor": 2
}
