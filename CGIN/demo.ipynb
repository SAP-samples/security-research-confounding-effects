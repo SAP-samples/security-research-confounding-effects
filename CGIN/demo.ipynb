{
 "cells": [
  {
   "cell_type": "code",
   "execution_count": 1,
   "metadata": {},
   "outputs": [],
   "source": [
    "from model import get_classification_model\n",
    "from word2vec import Word2VecBuilder\n",
    "from dataloader import ASTEncoder, load\n",
    "from torch_geometric.data import DataLoader, Data\n",
    "import glob\n",
    "from tqdm import tqdm\n",
    "import torch.nn.functional as F\n",
    "import torch"
   ]
  },
  {
   "cell_type": "code",
   "execution_count": 13,
   "metadata": {},
   "outputs": [],
   "source": [
    "BASELINE_GIN_CLASSIFIER = {\n",
    "    \"type\": \"GraphClassifier\",\n",
    "    \"name\": \"BASELINE_GIN\",\n",
    "    \"encoder\": {\n",
    "        \"type\": \"GraphComposite\",\n",
    "        \"pooling\": {\n",
    "            \"type\": \"sum\"\n",
    "        },\n",
    "        \"encoder\": {\n",
    "            \"num_layers\": 3,\n",
    "            \"hidden_channels\": 128,\n",
    "            \"layer_type\": \"CGIN\",\n",
    "            \"norm_type\": \"None\",\n",
    "\n",
    "        }\n",
    "    },\n",
    "    \"classifier\": {\n",
    "        \"layer_type\": \"MLP\",\n",
    "        \"dropout\": 0.5,\n",
    "        \"num_layers\": 3\n",
    "    }\n",
    "}"
   ]
  },
  {
   "cell_type": "code",
   "execution_count": 14,
   "metadata": {},
   "outputs": [],
   "source": [
    "BASELINE_GIN_CLASSIFIER[\"features\"] = 150\n",
    "BASELINE_GIN_CLASSIFIER[\"classes\"] = 1\n",
    "model = get_classification_model(BASELINE_GIN_CLASSIFIER).encoder.node_level_encoder"
   ]
  },
  {
   "cell_type": "code",
   "execution_count": 15,
   "metadata": {},
   "outputs": [],
   "source": [
    "#model.load(\"checkpoint\")"
   ]
  },
  {
   "cell_type": "code",
   "execution_count": 16,
   "metadata": {},
   "outputs": [
    {
     "name": "stdout",
     "output_type": "stream",
     "text": [
      "Loading wordvectors.\n"
     ]
    }
   ],
   "source": [
    "w2v = Word2VecBuilder({\n",
    "    \"vector_size\": 100,\n",
    "    \"window\": 3,\n",
    "    \"training_files\": [],\n",
    "    \"cache_dir\": \".\"\n",
    "})\n",
    "w2v.build_model()"
   ]
  },
  {
   "cell_type": "code",
   "execution_count": 17,
   "metadata": {},
   "outputs": [],
   "source": [
    "ast = ASTEncoder({\"cache_dir\": \".\"})\n",
    "ast.build_astdict()"
   ]
  },
  {
   "cell_type": "code",
   "execution_count": 9,
   "metadata": {},
   "outputs": [
    {
     "name": "stderr",
     "output_type": "stream",
     "text": [
      "100%|█████████████████████████████████████████████████████████████████████████████████████████████████████████████████████████████████████████████████████████████████████████████████████████████████████████████████████████████████████████████████████████| 6080/6080 [00:49<00:00, 123.52it/s]\n",
      "100%|█████████████████████████████████████████████████████████████████████████████████████████████████████████████████████████████████████████████████████████████████████████████████████████████████████████████████████████████████████████████████████████| 6080/6080 [00:33<00:00, 180.66it/s]\n",
      "100%|███████████████████████████████████████████████████████████████████████████████████████████████████████████████████████████████████████████████████████████████████████████████████████████████████████████████████████████████████████████████████████████| 593/593 [00:03<00:00, 194.90it/s]\n",
      "100%|███████████████████████████████████████████████████████████████████████████████████████████████████████████████████████████████████████████████████████████████████████████████████████████████████████████████████████████████████████████████████████████| 593/593 [00:03<00:00, 174.38it/s]\n"
     ]
    }
   ],
   "source": [
    "import os\n",
    "import pickle\n",
    "import gzip\n",
    "train_graphs = []\n",
    "test_graphs = []\n",
    "\n",
    "\n",
    "test_file_count = 0\n",
    "for name in tqdm(glob.glob(\"cache/LINEVUL_TRAIN/*_1.cpg.pt.gz\")):\n",
    "    file = gzip.open(name,'rb')\n",
    "    object_file = pickle.load(file)\n",
    "    train_graphs.append(Data(x=torch.cat((object_file[\"astenc\"], object_file[\"codeenc\"]), dim=1), edge_index=object_file[\"edge_index\"], y=object_file[\"y\"]))\n",
    "    test_file_count += 1\n",
    "\n",
    "for name in tqdm(glob.glob(\"cache/LINEVUL_TRAIN/*_0.cpg.pt.gz\")[:test_file_count]):\n",
    "    file = gzip.open(name,'rb')\n",
    "    object_file = pickle.load(file)\n",
    "    train_graphs.append(Data(x=torch.cat((object_file[\"astenc\"], object_file[\"codeenc\"]), dim=1), edge_index=object_file[\"edge_index\"], y=object_file[\"y\"]))\n",
    "\n",
    "test_file_count = 0\n",
    "for name in tqdm(glob.glob(\"cache/LINEVUL_TEST/*_1.cpg.pt.gz\")):\n",
    "    file = gzip.open(name,'rb')\n",
    "    object_file = pickle.load(file)\n",
    "    test_graphs.append(Data(x=torch.cat((object_file[\"astenc\"], object_file[\"codeenc\"]), dim=1), edge_index=object_file[\"edge_index\"], y=object_file[\"y\"]))\n",
    "    test_file_count += 1\n",
    "\n",
    "for name in tqdm(glob.glob(\"cache/LINEVUL_TEST/*_0.cpg.pt.gz\")[:test_file_count]):\n",
    "    file = gzip.open(name,'rb')\n",
    "    object_file = pickle.load(file)\n",
    "    test_graphs.append(Data(x=torch.cat((object_file[\"astenc\"], object_file[\"codeenc\"]), dim=1), edge_index=object_file[\"edge_index\"], y=object_file[\"y\"]))\n"
   ]
  },
  {
   "cell_type": "code",
   "execution_count": 11,
   "metadata": {},
   "outputs": [
    {
     "name": "stderr",
     "output_type": "stream",
     "text": [
      "/Users/i534627/Projects/patchdetect/models/taintgraph/env/lib/python3.7/site-packages/torch_geometric/deprecation.py:12: UserWarning: 'data.DataLoader' is deprecated, use 'loader.DataLoader' instead\n",
      "  warnings.warn(out)\n"
     ]
    }
   ],
   "source": [
    "import numpy as np\n",
    "\n",
    "\n",
    "\n",
    "train_loader = DataLoader(train_graphs, 2, shuffle=True)\n",
    "test_loader = DataLoader(test_graphs, 1, shuffle=False)\n"
   ]
  },
  {
   "cell_type": "code",
   "execution_count": 18,
   "metadata": {},
   "outputs": [],
   "source": [
    "from torch.optim import Adam\n",
    "from torch_geometric.data import DataLoader, DenseDataLoader as DenseLoader\n",
    "from torch_geometric.data import Batch\n",
    "\n",
    "optimizer = Adam(model.parameters(), lr=0.0001)\n",
    "def train(model, optimizer, loader, device):\n",
    "    model.train()\n",
    "    total_loss = 0\n",
    "    total_loss_c = 0\n",
    "    total_loss_o = 0\n",
    "    total_loss_co = 0\n",
    "    correct_o = 0\n",
    "    \n",
    "    for it, data in tqdm(enumerate(loader), total=len(loader)):\n",
    "        optimizer.zero_grad()\n",
    "        data = data.to(device)\n",
    "        data.edge_index = data.edge_index.long()\n",
    "        data.x = data.x.float()\n",
    "\n",
    "        one_hot_target = data.y.view(-1)\n",
    "        c_logs, o_logs, co_logs = model(data)\n",
    "        uniform_target = torch.ones_like(c_logs, dtype=torch.float).to(device) / 2\n",
    "\n",
    "        c_loss = F.kl_div(c_logs, uniform_target, reduction='batchmean')\n",
    "        o_loss = F.nll_loss(o_logs, one_hot_target)\n",
    "        co_loss = F.nll_loss(co_logs, one_hot_target)\n",
    "        loss = 0.1 * c_loss + 0.8 * o_loss + 0.1 * co_loss\n",
    "\n",
    "        pred_o = o_logs.max(1)[1]\n",
    "        correct_o += pred_o.eq(data.y.view(-1)).sum().item()\n",
    "        loss.backward()\n",
    "        total_loss += loss.item() * 4\n",
    "        total_loss_c += c_loss.item() * 4\n",
    "        total_loss_o += o_loss.item() * 4\n",
    "        total_loss_co += co_loss.item() * 4\n",
    "        optimizer.step()\n",
    "\n",
    "    \n",
    "    num = len(loader.dataset)\n",
    "    total_loss = total_loss / num\n",
    "    total_loss_c = total_loss_c / num\n",
    "    total_loss_o = total_loss_o / num\n",
    "    total_loss_co = total_loss_co / num\n",
    "    correct_o = correct_o / num\n",
    "    return total_loss, total_loss_c, total_loss_o, total_loss_co, correct_o\n",
    "\n",
    "def eval_acc(model, loader, device):\n",
    "    model.eval()\n",
    "    correct = 0\n",
    "    correct_c = 0\n",
    "    correct_o = 0\n",
    "    for data in tqdm(loader):\n",
    "        data = data.to(device)\n",
    "        data.edge_index = data.edge_index.long()\n",
    "        data.x = data.x.float()\n",
    "        with torch.no_grad():\n",
    "            c_logs, o_logs, co_logs = model(data)\n",
    "            pred = co_logs.max(1)[1]\n",
    "            pred_c = c_logs.max(1)[1] \n",
    "            pred_o = o_logs.max(1)[1] \n",
    "        correct += pred.eq(data.y.view(-1)).sum().item()\n",
    "        correct_c += pred_c.eq(data.y.view(-1)).sum().item()\n",
    "        correct_o += pred_o.eq(data.y.view(-1)).sum().item()\n",
    "\n",
    "    acc_co = correct / len(loader.dataset)\n",
    "    acc_c = correct_c / len(loader.dataset)\n",
    "    acc_o = correct_o / len(loader.dataset)\n",
    "    return acc_co, acc_c, acc_o\n"
   ]
  },
  {
   "cell_type": "code",
   "execution_count": 13,
   "metadata": {},
   "outputs": [
    {
     "name": "stderr",
     "output_type": "stream",
     "text": [
      "100%|██████████████████████████████████████████████████████████████████████████████████████████████████████████████████████████████████████████████████████████████████████████████████████████████████████████████████████████████████████████████████████████| 6080/6080 [03:15<00:00, 31.03it/s]\n",
      "100%|█████████████████████████████████████████████████████████████████████████████████████████████████████████████████████████████████████████████████████████████████████████████████████████████████████████████████████████████████████████████████████████| 1186/1186 [00:11<00:00, 104.42it/s]\n"
     ]
    },
    {
     "name": "stdout",
     "output_type": "stream",
     "text": [
      "train stuff 1.246224444717365 0.019376033110740154 1.3813290061870296 1.3922361540828685 0.5754111842105263\n",
      "test stuff 0.6172006745362564 0.3912310286677909 0.53035413153457\n"
     ]
    },
    {
     "name": "stderr",
     "output_type": "stream",
     "text": [
      "100%|██████████████████████████████████████████████████████████████████████████████████████████████████████████████████████████████████████████████████████████████████████████████████████████████████████████████████████████████████████████████████████████| 6080/6080 [03:17<00:00, 30.86it/s]\n",
      "100%|█████████████████████████████████████████████████████████████████████████████████████████████████████████████████████████████████████████████████████████████████████████████████████████████████████████████████████████████████████████████████████████| 1186/1186 [00:09<00:00, 120.92it/s]\n"
     ]
    },
    {
     "name": "stdout",
     "output_type": "stream",
     "text": [
      "train stuff 1.2324029550103373 0.0006426434424754821 1.3691163835949018 1.3704556262120604 0.5771381578947369\n",
      "test stuff 0.5219224283305227 0.45868465430016864 0.5236087689713322\n"
     ]
    },
    {
     "name": "stderr",
     "output_type": "stream",
     "text": [
      "100%|██████████████████████████████████████████████████████████████████████████████████████████████████████████████████████████████████████████████████████████████████████████████████████████████████████████████████████████████████████████████████████████| 6080/6080 [03:17<00:00, 30.85it/s]\n",
      "100%|█████████████████████████████████████████████████████████████████████████████████████████████████████████████████████████████████████████████████████████████████████████████████████████████████████████████████████████████████████████████████████████| 1186/1186 [00:08<00:00, 135.93it/s]\n"
     ]
    },
    {
     "name": "stdout",
     "output_type": "stream",
     "text": [
      "train stuff 1.2278920694450406 2.2117528868348975e-05 1.3639585694494216 1.3672298479825258 0.5680098684210526\n",
      "test stuff 0.6104553119730185 0.5016863406408094 0.5708263069139966\n"
     ]
    },
    {
     "name": "stderr",
     "output_type": "stream",
     "text": [
      "100%|██████████████████████████████████████████████████████████████████████████████████████████████████████████████████████████████████████████████████████████████████████████████████████████████████████████████████████████████████████████████████████████| 6080/6080 [03:23<00:00, 29.88it/s]\n",
      "100%|█████████████████████████████████████████████████████████████████████████████████████████████████████████████████████████████████████████████████████████████████████████████████████████████████████████████████████████████████████████████████████████| 1186/1186 [00:11<00:00, 106.02it/s]\n"
     ]
    },
    {
     "name": "stdout",
     "output_type": "stream",
     "text": [
      "train stuff 1.2200455332174898 2.7277100046998575e-05 1.355196996709626 1.3588518900110533 0.5750822368421052\n",
      "test stuff 0.6281618887015177 0.4468802698145025 0.5396290050590219\n"
     ]
    },
    {
     "name": "stderr",
     "output_type": "stream",
     "text": [
      "100%|██████████████████████████████████████████████████████████████████████████████████████████████████████████████████████████████████████████████████████████████████████████████████████████████████████████████████████████████████████████████████████████| 6080/6080 [03:06<00:00, 32.53it/s]\n",
      "100%|█████████████████████████████████████████████████████████████████████████████████████████████████████████████████████████████████████████████████████████████████████████████████████████████████████████████████████████████████████████████████████████| 1186/1186 [00:08<00:00, 144.58it/s]\n"
     ]
    },
    {
     "name": "stdout",
     "output_type": "stream",
     "text": [
      "train stuff 1.2161939716554786 2.3598317056894302e-05 1.3513909015020258 1.3507887150700155 0.5882401315789474\n",
      "test stuff 0.6205733558178752 0.5177065767284992 0.6231028667790893\n"
     ]
    },
    {
     "name": "stderr",
     "output_type": "stream",
     "text": [
      "100%|██████████████████████████████████████████████████████████████████████████████████████████████████████████████████████████████████████████████████████████████████████████████████████████████████████████████████████████████████████████████████████████| 6080/6080 [03:08<00:00, 32.20it/s]\n",
      "100%|█████████████████████████████████████████████████████████████████████████████████████████████████████████████████████████████████████████████████████████████████████████████████████████████████████████████████████████████████████████████████████████| 1186/1186 [00:08<00:00, 144.01it/s]\n"
     ]
    },
    {
     "name": "stdout",
     "output_type": "stream",
     "text": [
      "train stuff 1.2122372285708 1.792312158565772e-05 1.3468697189206356 1.3473964205697964 0.5886513157894737\n",
      "test stuff 0.6290050590219224 0.5615514333895447 0.5387858347386172\n"
     ]
    },
    {
     "name": "stderr",
     "output_type": "stream",
     "text": [
      "100%|██████████████████████████████████████████████████████████████████████████████████████████████████████████████████████████████████████████████████████████████████████████████████████████████████████████████████████████████████████████████████████████| 6080/6080 [03:05<00:00, 32.80it/s]\n",
      "100%|█████████████████████████████████████████████████████████████████████████████████████████████████████████████████████████████████████████████████████████████████████████████████████████████████████████████████████████████████████████████████████████| 1186/1186 [00:09<00:00, 124.98it/s]\n"
     ]
    },
    {
     "name": "stdout",
     "output_type": "stream",
     "text": [
      "train stuff 1.2192925172220719 1.8261377944758064e-05 1.3549691552198246 1.3531534830598455 0.5801809210526315\n",
      "test stuff 0.6155143338954469 0.5952782462057336 0.5202360876897133\n"
     ]
    },
    {
     "name": "stderr",
     "output_type": "stream",
     "text": [
      "100%|██████████████████████████████████████████████████████████████████████████████████████████████████████████████████████████████████████████████████████████████████████████████████████████████████████████████████████████████████████████████████████████| 6080/6080 [03:11<00:00, 31.74it/s]\n",
      "100%|█████████████████████████████████████████████████████████████████████████████████████████████████████████████████████████████████████████████████████████████████████████████████████████████████████████████████████████████████████████████████████████| 1186/1186 [00:09<00:00, 130.72it/s]\n"
     ]
    },
    {
     "name": "stdout",
     "output_type": "stream",
     "text": [
      "train stuff 1.215728738404026 1.4560772596221221e-05 1.3510409325165185 1.3489451865224462 0.5824835526315789\n",
      "test stuff 0.6231028667790893 0.6020236087689713 0.5919055649241147\n"
     ]
    },
    {
     "name": "stderr",
     "output_type": "stream",
     "text": [
      "100%|██████████████████████████████████████████████████████████████████████████████████████████████████████████████████████████████████████████████████████████████████████████████████████████████████████████████████████████████████████████████████████████| 6080/6080 [03:10<00:00, 31.99it/s]\n",
      "100%|█████████████████████████████████████████████████████████████████████████████████████████████████████████████████████████████████████████████████████████████████████████████████████████████████████████████████████████████████████████████████████████| 1186/1186 [00:09<00:00, 131.65it/s]\n"
     ]
    },
    {
     "name": "stdout",
     "output_type": "stream",
     "text": [
      "train stuff 1.2179602531716227 1.335571961183297e-05 1.3534858445685944 1.3517022262474423 0.5773026315789473\n",
      "test stuff 0.6290050590219224 0.3777403035413153 0.6214165261382799\n"
     ]
    },
    {
     "name": "stderr",
     "output_type": "stream",
     "text": [
      "100%|██████████████████████████████████████████████████████████████████████████████████████████████████████████████████████████████████████████████████████████████████████████████████████████████████████████████████████████████████████████████████████████| 6080/6080 [03:07<00:00, 32.36it/s]\n",
      "100%|█████████████████████████████████████████████████████████████████████████████████████████████████████████████████████████████████████████████████████████████████████████████████████████████████████████████████████████████████████████████████████████| 1186/1186 [00:09<00:00, 127.10it/s]\n"
     ]
    },
    {
     "name": "stdout",
     "output_type": "stream",
     "text": [
      "train stuff 1.2185008566434445 1.1406162459599344e-05 1.3538246692305334 1.3543996091539923 0.5780427631578947\n",
      "test stuff 0.5699831365935919 0.3962900505902192 0.6315345699831366\n"
     ]
    },
    {
     "name": "stderr",
     "output_type": "stream",
     "text": [
      "100%|██████████████████████████████████████████████████████████████████████████████████████████████████████████████████████████████████████████████████████████████████████████████████████████████████████████████████████████████████████████████████████████| 6080/6080 [02:40<00:00, 37.83it/s]\n",
      "100%|█████████████████████████████████████████████████████████████████████████████████████████████████████████████████████████████████████████████████████████████████████████████████████████████████████████████████████████████████████████████████████████| 1186/1186 [00:06<00:00, 169.62it/s]\n"
     ]
    },
    {
     "name": "stdout",
     "output_type": "stream",
     "text": [
      "train stuff 1.2135911595860593 1.017351781851367e-05 1.3483339574482096 1.3492295662039204 0.5833059210526316\n",
      "test stuff 0.6205733558178752 0.5354131534569984 0.5699831365935919\n"
     ]
    },
    {
     "name": "stderr",
     "output_type": "stream",
     "text": [
      "100%|██████████████████████████████████████████████████████████████████████████████████████████████████████████████████████████████████████████████████████████████████████████████████████████████████████████████████████████████████████████████████████████| 6080/6080 [02:41<00:00, 37.65it/s]\n",
      "100%|█████████████████████████████████████████████████████████████████████████████████████████████████████████████████████████████████████████████████████████████████████████████████████████████████████████████████████████████████████████████████████████| 1186/1186 [00:06<00:00, 178.57it/s]\n"
     ]
    },
    {
     "name": "stdout",
     "output_type": "stream",
     "text": [
      "train stuff 1.2166463296566354 8.577593651257063e-06 1.3515609328684053 1.3539670693835146 0.5774671052631579\n",
      "test stuff 0.6172006745362564 0.5193929173693086 0.6231028667790893\n"
     ]
    },
    {
     "name": "stderr",
     "output_type": "stream",
     "text": [
      "100%|██████████████████████████████████████████████████████████████████████████████████████████████████████████████████████████████████████████████████████████████████████████████████████████████████████████████████████████████████████████████████████████| 6080/6080 [02:31<00:00, 40.01it/s]\n",
      "100%|█████████████████████████████████████████████████████████████████████████████████████████████████████████████████████████████████████████████████████████████████████████████████████████████████████████████████████████████████████████████████████████| 1186/1186 [00:07<00:00, 157.81it/s]\n"
     ]
    },
    {
     "name": "stdout",
     "output_type": "stream",
     "text": [
      "train stuff 1.2197942121150462 7.963807959305613e-06 1.3552660085358903 1.3558059131334488 0.5788651315789474\n",
      "test stuff 0.6264755480607083 0.5623946037099494 0.5539629005059022\n"
     ]
    },
    {
     "name": "stderr",
     "output_type": "stream",
     "text": [
      "100%|██████████████████████████████████████████████████████████████████████████████████████████████████████████████████████████████████████████████████████████████████████████████████████████████████████████████████████████████████████████████████████████| 6080/6080 [15:44<00:00,  6.44it/s]\n",
      "100%|█████████████████████████████████████████████████████████████████████████████████████████████████████████████████████████████████████████████████████████████████████████████████████████████████████████████████████████████████████████████████████████| 1186/1186 [00:08<00:00, 134.52it/s]\n"
     ]
    },
    {
     "name": "stdout",
     "output_type": "stream",
     "text": [
      "train stuff 1.217982413011946 6.427566863988575e-06 1.3532529742113855 1.3537937290770443 0.5786184210526316\n",
      "test stuff 0.6290050590219224 0.39376053962900504 0.6349072512647554\n"
     ]
    },
    {
     "name": "stderr",
     "output_type": "stream",
     "text": [
      "100%|██████████████████████████████████████████████████████████████████████████████████████████████████████████████████████████████████████████████████████████████████████████████████████████████████████████████████████████████████████████████████████████| 6080/6080 [02:57<00:00, 34.26it/s]\n",
      "100%|█████████████████████████████████████████████████████████████████████████████████████████████████████████████████████████████████████████████████████████████████████████████████████████████████████████████████████████████████████████████████████████| 1186/1186 [00:08<00:00, 140.90it/s]\n"
     ]
    },
    {
     "name": "stdout",
     "output_type": "stream",
     "text": [
      "train stuff 1.215125473118142 6.011319591810829e-06 1.3501021148931038 1.3504316163494399 0.5785361842105263\n",
      "test stuff 0.6281618887015177 0.418212478920742 0.5337268128161888\n"
     ]
    },
    {
     "name": "stderr",
     "output_type": "stream",
     "text": [
      "100%|██████████████████████████████████████████████████████████████████████████████████████████████████████████████████████████████████████████████████████████████████████████████████████████████████████████████████████████████████████████████████████████| 6080/6080 [02:55<00:00, 34.65it/s]\n",
      "100%|█████████████████████████████████████████████████████████████████████████████████████████████████████████████████████████████████████████████████████████████████████████████████████████████████████████████████████████████████████████████████████████| 1186/1186 [00:09<00:00, 126.66it/s]\n"
     ]
    },
    {
     "name": "stdout",
     "output_type": "stream",
     "text": [
      "train stuff 1.2165244020619674 4.719241865371403e-06 1.3515932120872955 1.3524934302917437 0.5826480263157895\n",
      "test stuff 0.6290050590219224 0.5674536256323778 0.6197301854974705\n"
     ]
    },
    {
     "name": "stderr",
     "output_type": "stream",
     "text": [
      " 13%|████████████████████████████████▌                                                                                                                                                                                                                          | 788/6080 [00:23<02:40, 32.95it/s]\n"
     ]
    },
    {
     "ename": "KeyboardInterrupt",
     "evalue": "",
     "output_type": "error",
     "traceback": [
      "\u001b[0;31m---------------------------------------------------------------------------\u001b[0m",
      "\u001b[0;31mKeyboardInterrupt\u001b[0m                         Traceback (most recent call last)",
      "\u001b[0;32m/var/folders/9g/4hkfvr8s3zj5ct38kk5hc6q80000gn/T/ipykernel_18452/1627808725.py\u001b[0m in \u001b[0;36m<module>\u001b[0;34m\u001b[0m\n\u001b[1;32m      1\u001b[0m \u001b[0;32mfor\u001b[0m \u001b[0mepoch\u001b[0m \u001b[0;32min\u001b[0m \u001b[0mrange\u001b[0m\u001b[0;34m(\u001b[0m\u001b[0;36m1\u001b[0m\u001b[0;34m,\u001b[0m \u001b[0;36m100\u001b[0m\u001b[0;34m)\u001b[0m\u001b[0;34m:\u001b[0m\u001b[0;34m\u001b[0m\u001b[0;34m\u001b[0m\u001b[0m\n\u001b[0;32m----> 2\u001b[0;31m     \u001b[0mtrain_loss\u001b[0m\u001b[0;34m,\u001b[0m \u001b[0mloss_c\u001b[0m\u001b[0;34m,\u001b[0m \u001b[0mloss_o\u001b[0m\u001b[0;34m,\u001b[0m \u001b[0mloss_co\u001b[0m\u001b[0;34m,\u001b[0m \u001b[0mtrain_acc\u001b[0m \u001b[0;34m=\u001b[0m \u001b[0mtrain\u001b[0m\u001b[0;34m(\u001b[0m\u001b[0mmodel\u001b[0m\u001b[0;34m,\u001b[0m \u001b[0moptimizer\u001b[0m\u001b[0;34m,\u001b[0m \u001b[0mtrain_loader\u001b[0m\u001b[0;34m,\u001b[0m \u001b[0;34m\"cpu\"\u001b[0m\u001b[0;34m)\u001b[0m\u001b[0;34m\u001b[0m\u001b[0;34m\u001b[0m\u001b[0m\n\u001b[0m\u001b[1;32m      3\u001b[0m     \u001b[0mtest_acc\u001b[0m\u001b[0;34m,\u001b[0m \u001b[0mtest_acc_c\u001b[0m\u001b[0;34m,\u001b[0m \u001b[0mtest_acc_o\u001b[0m \u001b[0;34m=\u001b[0m \u001b[0meval_acc\u001b[0m\u001b[0;34m(\u001b[0m\u001b[0mmodel\u001b[0m\u001b[0;34m,\u001b[0m \u001b[0mtest_loader\u001b[0m\u001b[0;34m,\u001b[0m \u001b[0;34m\"cpu\"\u001b[0m\u001b[0;34m)\u001b[0m\u001b[0;34m\u001b[0m\u001b[0;34m\u001b[0m\u001b[0m\n\u001b[1;32m      4\u001b[0m     \u001b[0mprint\u001b[0m\u001b[0;34m(\u001b[0m\u001b[0;34m\"train stuff\"\u001b[0m\u001b[0;34m,\u001b[0m \u001b[0mtrain_loss\u001b[0m\u001b[0;34m,\u001b[0m \u001b[0mloss_c\u001b[0m\u001b[0;34m,\u001b[0m \u001b[0mloss_o\u001b[0m\u001b[0;34m,\u001b[0m \u001b[0mloss_co\u001b[0m\u001b[0;34m,\u001b[0m \u001b[0mtrain_acc\u001b[0m\u001b[0;34m)\u001b[0m\u001b[0;34m\u001b[0m\u001b[0;34m\u001b[0m\u001b[0m\n\u001b[1;32m      5\u001b[0m     \u001b[0mprint\u001b[0m\u001b[0;34m(\u001b[0m\u001b[0;34m\"test stuff\"\u001b[0m\u001b[0;34m,\u001b[0m \u001b[0mtest_acc\u001b[0m\u001b[0;34m,\u001b[0m \u001b[0mtest_acc_c\u001b[0m\u001b[0;34m,\u001b[0m \u001b[0mtest_acc_o\u001b[0m\u001b[0;34m)\u001b[0m\u001b[0;34m\u001b[0m\u001b[0;34m\u001b[0m\u001b[0m\n",
      "\u001b[0;32m/var/folders/9g/4hkfvr8s3zj5ct38kk5hc6q80000gn/T/ipykernel_18452/299691581.py\u001b[0m in \u001b[0;36mtrain\u001b[0;34m(model, optimizer, loader, device)\u001b[0m\n\u001b[1;32m     19\u001b[0m \u001b[0;34m\u001b[0m\u001b[0m\n\u001b[1;32m     20\u001b[0m         \u001b[0mone_hot_target\u001b[0m \u001b[0;34m=\u001b[0m \u001b[0mdata\u001b[0m\u001b[0;34m.\u001b[0m\u001b[0my\u001b[0m\u001b[0;34m.\u001b[0m\u001b[0mview\u001b[0m\u001b[0;34m(\u001b[0m\u001b[0;34m-\u001b[0m\u001b[0;36m1\u001b[0m\u001b[0;34m)\u001b[0m\u001b[0;34m\u001b[0m\u001b[0;34m\u001b[0m\u001b[0m\n\u001b[0;32m---> 21\u001b[0;31m         \u001b[0mc_logs\u001b[0m\u001b[0;34m,\u001b[0m \u001b[0mo_logs\u001b[0m\u001b[0;34m,\u001b[0m \u001b[0mco_logs\u001b[0m \u001b[0;34m=\u001b[0m \u001b[0mmodel\u001b[0m\u001b[0;34m(\u001b[0m\u001b[0mdata\u001b[0m\u001b[0;34m)\u001b[0m\u001b[0;34m\u001b[0m\u001b[0;34m\u001b[0m\u001b[0m\n\u001b[0m\u001b[1;32m     22\u001b[0m         \u001b[0muniform_target\u001b[0m \u001b[0;34m=\u001b[0m \u001b[0mtorch\u001b[0m\u001b[0;34m.\u001b[0m\u001b[0mones_like\u001b[0m\u001b[0;34m(\u001b[0m\u001b[0mc_logs\u001b[0m\u001b[0;34m,\u001b[0m \u001b[0mdtype\u001b[0m\u001b[0;34m=\u001b[0m\u001b[0mtorch\u001b[0m\u001b[0;34m.\u001b[0m\u001b[0mfloat\u001b[0m\u001b[0;34m)\u001b[0m\u001b[0;34m.\u001b[0m\u001b[0mto\u001b[0m\u001b[0;34m(\u001b[0m\u001b[0mdevice\u001b[0m\u001b[0;34m)\u001b[0m \u001b[0;34m/\u001b[0m \u001b[0;36m2\u001b[0m\u001b[0;34m\u001b[0m\u001b[0;34m\u001b[0m\u001b[0m\n\u001b[1;32m     23\u001b[0m \u001b[0;34m\u001b[0m\u001b[0m\n",
      "\u001b[0;32m~/Projects/patchdetect/models/taintgraph/env/lib/python3.7/site-packages/torch/nn/modules/module.py\u001b[0m in \u001b[0;36m_call_impl\u001b[0;34m(self, *input, **kwargs)\u001b[0m\n\u001b[1;32m   1192\u001b[0m         if not (self._backward_hooks or self._forward_hooks or self._forward_pre_hooks or _global_backward_hooks\n\u001b[1;32m   1193\u001b[0m                 or _global_forward_hooks or _global_forward_pre_hooks):\n\u001b[0;32m-> 1194\u001b[0;31m             \u001b[0;32mreturn\u001b[0m \u001b[0mforward_call\u001b[0m\u001b[0;34m(\u001b[0m\u001b[0;34m*\u001b[0m\u001b[0minput\u001b[0m\u001b[0;34m,\u001b[0m \u001b[0;34m**\u001b[0m\u001b[0mkwargs\u001b[0m\u001b[0;34m)\u001b[0m\u001b[0;34m\u001b[0m\u001b[0;34m\u001b[0m\u001b[0m\n\u001b[0m\u001b[1;32m   1195\u001b[0m         \u001b[0;31m# Do not call functions when jit is used\u001b[0m\u001b[0;34m\u001b[0m\u001b[0;34m\u001b[0m\u001b[0;34m\u001b[0m\u001b[0m\n\u001b[1;32m   1196\u001b[0m         \u001b[0mfull_backward_hooks\u001b[0m\u001b[0;34m,\u001b[0m \u001b[0mnon_full_backward_hooks\u001b[0m \u001b[0;34m=\u001b[0m \u001b[0;34m[\u001b[0m\u001b[0;34m]\u001b[0m\u001b[0;34m,\u001b[0m \u001b[0;34m[\u001b[0m\u001b[0;34m]\u001b[0m\u001b[0;34m\u001b[0m\u001b[0;34m\u001b[0m\u001b[0m\n",
      "\u001b[0;32m~/Projects/codeartifactevaluation/CGIN/model.py\u001b[0m in \u001b[0;36mforward\u001b[0;34m(self, data, *args, **kwargs)\u001b[0m\n\u001b[1;32m     45\u001b[0m     \u001b[0;32mdef\u001b[0m \u001b[0mforward\u001b[0m\u001b[0;34m(\u001b[0m\u001b[0mself\u001b[0m\u001b[0;34m,\u001b[0m \u001b[0mdata\u001b[0m\u001b[0;34m,\u001b[0m \u001b[0;34m*\u001b[0m\u001b[0margs\u001b[0m\u001b[0;34m,\u001b[0m \u001b[0;34m**\u001b[0m\u001b[0mkwargs\u001b[0m\u001b[0;34m)\u001b[0m\u001b[0;34m:\u001b[0m\u001b[0;34m\u001b[0m\u001b[0;34m\u001b[0m\u001b[0m\n\u001b[1;32m     46\u001b[0m \u001b[0;34m\u001b[0m\u001b[0m\n\u001b[0;32m---> 47\u001b[0;31m         \u001b[0;32mreturn\u001b[0m \u001b[0mself\u001b[0m\u001b[0;34m.\u001b[0m\u001b[0mlayer\u001b[0m\u001b[0;34m(\u001b[0m\u001b[0mdata\u001b[0m\u001b[0;34m)\u001b[0m\u001b[0;34m\u001b[0m\u001b[0;34m\u001b[0m\u001b[0m\n\u001b[0m\u001b[1;32m     48\u001b[0m \u001b[0;34m\u001b[0m\u001b[0m\n\u001b[1;32m     49\u001b[0m \u001b[0;34m\u001b[0m\u001b[0m\n",
      "\u001b[0;32m~/Projects/patchdetect/models/taintgraph/env/lib/python3.7/site-packages/torch/nn/modules/module.py\u001b[0m in \u001b[0;36m_call_impl\u001b[0;34m(self, *input, **kwargs)\u001b[0m\n\u001b[1;32m   1192\u001b[0m         if not (self._backward_hooks or self._forward_hooks or self._forward_pre_hooks or _global_backward_hooks\n\u001b[1;32m   1193\u001b[0m                 or _global_forward_hooks or _global_forward_pre_hooks):\n\u001b[0;32m-> 1194\u001b[0;31m             \u001b[0;32mreturn\u001b[0m \u001b[0mforward_call\u001b[0m\u001b[0;34m(\u001b[0m\u001b[0;34m*\u001b[0m\u001b[0minput\u001b[0m\u001b[0;34m,\u001b[0m \u001b[0;34m**\u001b[0m\u001b[0mkwargs\u001b[0m\u001b[0;34m)\u001b[0m\u001b[0;34m\u001b[0m\u001b[0;34m\u001b[0m\u001b[0m\n\u001b[0m\u001b[1;32m   1195\u001b[0m         \u001b[0;31m# Do not call functions when jit is used\u001b[0m\u001b[0;34m\u001b[0m\u001b[0;34m\u001b[0m\u001b[0;34m\u001b[0m\u001b[0m\n\u001b[1;32m   1196\u001b[0m         \u001b[0mfull_backward_hooks\u001b[0m\u001b[0;34m,\u001b[0m \u001b[0mnon_full_backward_hooks\u001b[0m \u001b[0;34m=\u001b[0m \u001b[0;34m[\u001b[0m\u001b[0;34m]\u001b[0m\u001b[0;34m,\u001b[0m \u001b[0;34m[\u001b[0m\u001b[0;34m]\u001b[0m\u001b[0;34m\u001b[0m\u001b[0;34m\u001b[0m\u001b[0m\n",
      "\u001b[0;32m~/Projects/codeartifactevaluation/CGIN/causalmodel.py\u001b[0m in \u001b[0;36mforward\u001b[0;34m(self, data, eval_random, train_type)\u001b[0m\n\u001b[1;32m    215\u001b[0m             \u001b[0;32melse\u001b[0m\u001b[0;34m:\u001b[0m\u001b[0;34m\u001b[0m\u001b[0;34m\u001b[0m\u001b[0m\n\u001b[1;32m    216\u001b[0m                 \u001b[0mx\u001b[0m \u001b[0;34m=\u001b[0m \u001b[0mconv\u001b[0m\u001b[0;34m(\u001b[0m\u001b[0mx\u001b[0m \u001b[0;34m+\u001b[0m \u001b[0mx_old\u001b[0m\u001b[0;34m,\u001b[0m \u001b[0medge_index\u001b[0m\u001b[0;34m)\u001b[0m\u001b[0;34m\u001b[0m\u001b[0;34m\u001b[0m\u001b[0m\n\u001b[0;32m--> 217\u001b[0;31m         \u001b[0medge_rep\u001b[0m \u001b[0;34m=\u001b[0m \u001b[0mtorch\u001b[0m\u001b[0;34m.\u001b[0m\u001b[0mcat\u001b[0m\u001b[0;34m(\u001b[0m\u001b[0;34m[\u001b[0m\u001b[0mx\u001b[0m\u001b[0;34m[\u001b[0m\u001b[0mrow\u001b[0m\u001b[0;34m]\u001b[0m\u001b[0;34m,\u001b[0m \u001b[0mx\u001b[0m\u001b[0;34m[\u001b[0m\u001b[0mcol\u001b[0m\u001b[0;34m]\u001b[0m\u001b[0;34m]\u001b[0m\u001b[0;34m,\u001b[0m \u001b[0mdim\u001b[0m\u001b[0;34m=\u001b[0m\u001b[0;34m-\u001b[0m\u001b[0;36m1\u001b[0m\u001b[0;34m)\u001b[0m\u001b[0;34m\u001b[0m\u001b[0;34m\u001b[0m\u001b[0m\n\u001b[0m\u001b[1;32m    218\u001b[0m         \u001b[0medge_att\u001b[0m \u001b[0;34m=\u001b[0m \u001b[0mF\u001b[0m\u001b[0;34m.\u001b[0m\u001b[0msoftmax\u001b[0m\u001b[0;34m(\u001b[0m\u001b[0mself\u001b[0m\u001b[0;34m.\u001b[0m\u001b[0medge_att_mlp\u001b[0m\u001b[0;34m(\u001b[0m\u001b[0medge_rep\u001b[0m\u001b[0;34m)\u001b[0m\u001b[0;34m,\u001b[0m \u001b[0mdim\u001b[0m\u001b[0;34m=\u001b[0m\u001b[0;34m-\u001b[0m\u001b[0;36m1\u001b[0m\u001b[0;34m)\u001b[0m\u001b[0;34m\u001b[0m\u001b[0;34m\u001b[0m\u001b[0m\n\u001b[1;32m    219\u001b[0m         \u001b[0medge_weight_c\u001b[0m \u001b[0;34m=\u001b[0m \u001b[0medge_att\u001b[0m\u001b[0;34m[\u001b[0m\u001b[0;34m:\u001b[0m\u001b[0;34m,\u001b[0m \u001b[0;36m0\u001b[0m\u001b[0;34m]\u001b[0m\u001b[0;34m\u001b[0m\u001b[0;34m\u001b[0m\u001b[0m\n",
      "\u001b[0;31mKeyboardInterrupt\u001b[0m: "
     ]
    }
   ],
   "source": [
    "for epoch in range(1, 100):\n",
    "    train_loss, loss_c, loss_o, loss_co, train_acc = train(model, optimizer, train_loader, \"cpu\")\n",
    "    test_acc, test_acc_c, test_acc_o = eval_acc(model, test_loader, \"cpu\")\n",
    "    print(\"train stuff\", train_loss, loss_c, loss_o, loss_co, train_acc)\n",
    "    print(\"test stuff\", test_acc, test_acc_c, test_acc_o)\n",
    "    torch.save(model.state_dict(), \"{}_model.chkpt\".format(epoch))\n"
   ]
  },
  {
   "cell_type": "code",
   "execution_count": 19,
   "metadata": {},
   "outputs": [
    {
     "data": {
      "text/plain": [
       "CGINEncoder(\n",
       "  (layer): CausalGIN(\n",
       "    (bn_feat): BatchNorm1d(150, eps=1e-05, momentum=0.1, affine=True, track_running_stats=True)\n",
       "    (conv_feat): GCNConv(150, 128)\n",
       "    (bns_conv): ModuleList()\n",
       "    (convs): ModuleList(\n",
       "      (0): GINConv(nn=Sequential(\n",
       "        (0): Linear(in_features=128, out_features=128, bias=True)\n",
       "        (1): BatchNorm1d(128, eps=1e-05, momentum=0.1, affine=True, track_running_stats=True)\n",
       "        (2): ReLU()\n",
       "        (3): Linear(in_features=128, out_features=128, bias=True)\n",
       "        (4): ReLU()\n",
       "      ))\n",
       "      (1): GINConv(nn=Sequential(\n",
       "        (0): Linear(in_features=128, out_features=128, bias=True)\n",
       "        (1): BatchNorm1d(128, eps=1e-05, momentum=0.1, affine=True, track_running_stats=True)\n",
       "        (2): ReLU()\n",
       "        (3): Linear(in_features=128, out_features=128, bias=True)\n",
       "        (4): ReLU()\n",
       "      ))\n",
       "      (2): GINConv(nn=Sequential(\n",
       "        (0): Linear(in_features=128, out_features=128, bias=True)\n",
       "        (1): BatchNorm1d(128, eps=1e-05, momentum=0.1, affine=True, track_running_stats=True)\n",
       "        (2): ReLU()\n",
       "        (3): Linear(in_features=128, out_features=128, bias=True)\n",
       "        (4): ReLU()\n",
       "      ))\n",
       "    )\n",
       "    (edge_att_mlp): Linear(in_features=256, out_features=2, bias=True)\n",
       "    (node_att_mlp): Linear(in_features=128, out_features=2, bias=True)\n",
       "    (bnc): BatchNorm1d(128, eps=1e-05, momentum=0.1, affine=True, track_running_stats=True)\n",
       "    (bno): BatchNorm1d(128, eps=1e-05, momentum=0.1, affine=True, track_running_stats=True)\n",
       "    (context_convs): GCNConv(128, 128)\n",
       "    (objects_convs): GCNConv(128, 128)\n",
       "    (fc1_bn_c): BatchNorm1d(128, eps=1e-05, momentum=0.1, affine=True, track_running_stats=True)\n",
       "    (fc1_c): Linear(in_features=128, out_features=128, bias=True)\n",
       "    (fc2_bn_c): BatchNorm1d(128, eps=1e-05, momentum=0.1, affine=True, track_running_stats=True)\n",
       "    (fc2_c): Linear(in_features=128, out_features=2, bias=True)\n",
       "    (fc1_bn_o): BatchNorm1d(128, eps=1e-05, momentum=0.1, affine=True, track_running_stats=True)\n",
       "    (fc1_o): Linear(in_features=128, out_features=128, bias=True)\n",
       "    (fc2_bn_o): BatchNorm1d(128, eps=1e-05, momentum=0.1, affine=True, track_running_stats=True)\n",
       "    (fc2_o): Linear(in_features=128, out_features=2, bias=True)\n",
       "    (fc1_bn_co): BatchNorm1d(256, eps=1e-05, momentum=0.1, affine=True, track_running_stats=True)\n",
       "    (fc1_co): Linear(in_features=256, out_features=128, bias=True)\n",
       "    (fc2_bn_co): BatchNorm1d(128, eps=1e-05, momentum=0.1, affine=True, track_running_stats=True)\n",
       "    (fc2_co): Linear(in_features=128, out_features=2, bias=True)\n",
       "  )\n",
       ")"
      ]
     },
     "execution_count": 19,
     "metadata": {},
     "output_type": "execute_result"
    }
   ],
   "source": [
    "model.load_state_dict(torch.load(\"14_model.chkpt\"))\n",
    "model.eval()"
   ]
  },
  {
   "cell_type": "code",
   "execution_count": 8,
   "metadata": {},
   "outputs": [],
   "source": [
    "def load_test(name):\n",
    "    graphs = []\n",
    "    test_file_count = 0\n",
    "    for name in tqdm(glob.glob(\"{}/*_1.cpg.pt.gz\".format(name))):\n",
    "        file = gzip.open(name,'rb')\n",
    "        object_file = pickle.load(file)\n",
    "        graphs.append(Data(x=torch.cat((object_file[\"astenc\"], object_file[\"codeenc\"]), dim=1), edge_index=object_file[\"edge_index\"], y=object_file[\"y\"]))\n",
    "        test_file_count += 1\n",
    "\n",
    "    for name in tqdm(glob.glob(\"{}/*_0.cpg.pt.gz\".format(name))[:test_file_count]):\n",
    "        file = gzip.open(name,'rb')\n",
    "        object_file = pickle.load(file)\n",
    "        graphs.append(Data(x=torch.cat((object_file[\"astenc\"], object_file[\"codeenc\"]), dim=1), edge_index=object_file[\"edge_index\"], y=object_file[\"y\"]))\n",
    "    return graphs"
   ]
  },
  {
   "cell_type": "code",
   "execution_count": 19,
   "metadata": {},
   "outputs": [
    {
     "name": "stdout",
     "output_type": "stream",
     "text": [
      "cache/LINEVUL_GOOGLE\n"
     ]
    },
    {
     "name": "stderr",
     "output_type": "stream",
     "text": [
      "100%|███████████████████████████████████████████████████████████████████████████████████████████████████████████████████████████████████████████████████████████████████████████████████████████████████████████████████████████████████████████████████████████| 596/596 [00:02<00:00, 240.40it/s]\n",
      "0it [00:00, ?it/s]\n",
      "/Users/i534627/Projects/patchdetect/models/taintgraph/env/lib/python3.7/site-packages/torch_geometric/deprecation.py:12: UserWarning: 'data.DataLoader' is deprecated, use 'loader.DataLoader' instead\n",
      "  warnings.warn(out)\n",
      "100%|███████████████████████████████████████████████████████████████████████████████████████████████████████████████████████████████████████████████████████████████████████████████████████████████████████████████████████████████████████████████████████████| 596/596 [00:03<00:00, 164.03it/s]\n"
     ]
    },
    {
     "name": "stdout",
     "output_type": "stream",
     "text": [
      "test stuff 0.6342281879194631 0.4865771812080537 0.5989932885906041\n",
      "cache/LINEVUL_TRAIN\n"
     ]
    },
    {
     "name": "stderr",
     "output_type": "stream",
     "text": [
      "100%|█████████████████████████████████████████████████████████████████████████████████████████████████████████████████████████████████████████████████████████████████████████████████████████████████████████████████████████████████████████████████████████| 6080/6080 [00:25<00:00, 235.70it/s]\n",
      "0it [00:00, ?it/s]\n",
      "100%|█████████████████████████████████████████████████████████████████████████████████████████████████████████████████████████████████████████████████████████████████████████████████████████████████████████████████████████████████████████████████████████| 6080/6080 [00:31<00:00, 196.05it/s]\n"
     ]
    },
    {
     "name": "stdout",
     "output_type": "stream",
     "text": [
      "test stuff 0.5036184210526315 0.5710526315789474 0.4776315789473684\n",
      "cache/LINEVUL_CHROMIUM\n"
     ]
    },
    {
     "name": "stderr",
     "output_type": "stream",
     "text": [
      "100%|███████████████████████████████████████████████████████████████████████████████████████████████████████████████████████████████████████████████████████████████████████████████████████████████████████████████████████████████████████████████████████████| 596/596 [00:02<00:00, 249.18it/s]\n",
      "0it [00:00, ?it/s]\n",
      "100%|███████████████████████████████████████████████████████████████████████████████████████████████████████████████████████████████████████████████████████████████████████████████████████████████████████████████████████████████████████████████████████████| 596/596 [00:03<00:00, 158.88it/s]\n"
     ]
    },
    {
     "name": "stdout",
     "output_type": "stream",
     "text": [
      "test stuff 0.62248322147651 0.5 0.5855704697986577\n",
      "cache/LINEVUL_OBFUSCATE_STLYE\n"
     ]
    },
    {
     "name": "stderr",
     "output_type": "stream",
     "text": [
      "100%|███████████████████████████████████████████████████████████████████████████████████████████████████████████████████████████████████████████████████████████████████████████████████████████████████████████████████████████████████████████████████████████| 996/996 [00:04<00:00, 243.14it/s]\n",
      "0it [00:00, ?it/s]\n",
      "100%|███████████████████████████████████████████████████████████████████████████████████████████████████████████████████████████████████████████████████████████████████████████████████████████████████████████████████████████████████████████████████████████| 996/996 [00:05<00:00, 197.79it/s]\n"
     ]
    },
    {
     "name": "stdout",
     "output_type": "stream",
     "text": [
      "test stuff 0.5612449799196787 0.5923694779116466 0.5532128514056225\n",
      "cache/LINEVUL_PYOBFUSCATOR\n"
     ]
    },
    {
     "name": "stderr",
     "output_type": "stream",
     "text": [
      "100%|███████████████████████████████████████████████████████████████████████████████████████████████████████████████████████████████████████████████████████████████████████████████████████████████████████████████████████████████████████████████████████████| 561/561 [00:02<00:00, 253.82it/s]\n",
      "0it [00:00, ?it/s]\n",
      "100%|███████████████████████████████████████████████████████████████████████████████████████████████████████████████████████████████████████████████████████████████████████████████████████████████████████████████████████████████████████████████████████████| 561/561 [00:02<00:00, 192.39it/s]\n"
     ]
    },
    {
     "name": "stdout",
     "output_type": "stream",
     "text": [
      "test stuff 0.5846702317290553 0.5204991087344029 0.5365418894830659\n",
      "cache/LINEVUL_DOUBLE_OBFUSCATE\n"
     ]
    },
    {
     "name": "stderr",
     "output_type": "stream",
     "text": [
      "100%|█████████████████████████████████████████████████████████████████████████████████████████████████████████████████████████████████████████████████████████████████████████████████████████████████████████████████████████████████████████████████████████| 1002/1002 [00:04<00:00, 247.12it/s]\n",
      "0it [00:00, ?it/s]\n",
      "100%|█████████████████████████████████████████████████████████████████████████████████████████████████████████████████████████████████████████████████████████████████████████████████████████████████████████████████████████████████████████████████████████| 1002/1002 [00:04<00:00, 223.09it/s]\n"
     ]
    },
    {
     "name": "stdout",
     "output_type": "stream",
     "text": [
      "test stuff 0.5528942115768463 0.6367265469061876 0.5159680638722555\n",
      "cache/LINEVUL_TEST\n"
     ]
    },
    {
     "name": "stderr",
     "output_type": "stream",
     "text": [
      "100%|███████████████████████████████████████████████████████████████████████████████████████████████████████████████████████████████████████████████████████████████████████████████████████████████████████████████████████████████████████████████████████████| 593/593 [00:02<00:00, 249.51it/s]\n",
      "0it [00:00, ?it/s]\n",
      "100%|███████████████████████████████████████████████████████████████████████████████████████████████████████████████████████████████████████████████████████████████████████████████████████████████████████████████████████████████████████████████████████████| 593/593 [00:03<00:00, 179.49it/s]\n"
     ]
    },
    {
     "name": "stdout",
     "output_type": "stream",
     "text": [
      "test stuff 0.6155143338954469 0.5109612141652614 0.5666104553119731\n",
      "cache/LINEVUL_COBFUSCATE\n"
     ]
    },
    {
     "name": "stderr",
     "output_type": "stream",
     "text": [
      "100%|███████████████████████████████████████████████████████████████████████████████████████████████████████████████████████████████████████████████████████████████████████████████████████████████████████████████████████████████████████████████████████████| 983/983 [00:03<00:00, 254.80it/s]\n",
      "0it [00:00, ?it/s]\n",
      "100%|███████████████████████████████████████████████████████████████████████████████████████████████████████████████████████████████████████████████████████████████████████████████████████████████████████████████████████████████████████████████████████████| 983/983 [00:05<00:00, 192.70it/s]\n"
     ]
    },
    {
     "name": "stdout",
     "output_type": "stream",
     "text": [
      "test stuff 0.582909460834181 0.5839267548321465 0.5757884028484231\n",
      "cache/LINEVUL_GNU\n"
     ]
    },
    {
     "name": "stderr",
     "output_type": "stream",
     "text": [
      "100%|███████████████████████████████████████████████████████████████████████████████████████████████████████████████████████████████████████████████████████████████████████████████████████████████████████████████████████████████████████████████████████████| 601/601 [00:02<00:00, 245.57it/s]\n",
      "0it [00:00, ?it/s]\n",
      "100%|███████████████████████████████████████████████████████████████████████████████████████████████████████████████████████████████████████████████████████████████████████████████████████████████████████████████████████████████████████████████████████████| 601/601 [00:03<00:00, 160.33it/s]\n"
     ]
    },
    {
     "name": "stdout",
     "output_type": "stream",
     "text": [
      "test stuff 0.6206322795341098 0.49417637271214643 0.5740432612312812\n",
      "cache/LINEVUL_PYOBFUSCATE_STLYE\n"
     ]
    },
    {
     "name": "stderr",
     "output_type": "stream",
     "text": [
      "100%|███████████████████████████████████████████████████████████████████████████████████████████████████████████████████████████████████████████████████████████████████████████████████████████████████████████████████████████████████████████████████████████| 567/567 [00:02<00:00, 240.59it/s]\n",
      "0it [00:00, ?it/s]\n",
      "100%|███████████████████████████████████████████████████████████████████████████████████████████████████████████████████████████████████████████████████████████████████████████████████████████████████████████████████████████████████████████████████████████| 567/567 [00:03<00:00, 173.63it/s]\n"
     ]
    },
    {
     "name": "stdout",
     "output_type": "stream",
     "text": [
      "test stuff 0.5802469135802469 0.54673721340388 0.5361552028218695\n",
      "cache/LINEVUL_MOZILLA\n"
     ]
    },
    {
     "name": "stderr",
     "output_type": "stream",
     "text": [
      "100%|███████████████████████████████████████████████████████████████████████████████████████████████████████████████████████████████████████████████████████████████████████████████████████████████████████████████████████████████████████████████████████████| 601/601 [00:03<00:00, 198.19it/s]\n",
      "0it [00:00, ?it/s]\n",
      "100%|███████████████████████████████████████████████████████████████████████████████████████████████████████████████████████████████████████████████████████████████████████████████████████████████████████████████████████████████████████████████████████████| 601/601 [00:03<00:00, 163.10it/s]\n"
     ]
    },
    {
     "name": "stdout",
     "output_type": "stream",
     "text": [
      "test stuff 0.6139767054908486 0.519134775374376 0.5640599001663894\n",
      "cache/LINEVUL_LLVM\n"
     ]
    },
    {
     "name": "stderr",
     "output_type": "stream",
     "text": [
      "100%|███████████████████████████████████████████████████████████████████████████████████████████████████████████████████████████████████████████████████████████████████████████████████████████████████████████████████████████████████████████████████████████| 596/596 [00:02<00:00, 199.36it/s]\n",
      "0it [00:00, ?it/s]\n",
      "100%|███████████████████████████████████████████████████████████████████████████████████████████████████████████████████████████████████████████████████████████████████████████████████████████████████████████████████████████████████████████████████████████| 596/596 [00:03<00:00, 174.72it/s]\n"
     ]
    },
    {
     "name": "stdout",
     "output_type": "stream",
     "text": [
      "test stuff 0.6073825503355704 0.5184563758389261 0.5637583892617449\n",
      "cache/LINEVUL_VAL\n"
     ]
    },
    {
     "name": "stderr",
     "output_type": "stream",
     "text": [
      "100%|███████████████████████████████████████████████████████████████████████████████████████████████████████████████████████████████████████████████████████████████████████████████████████████████████████████████████████████████████████████████████████████| 557/557 [00:03<00:00, 180.75it/s]\n",
      "0it [00:00, ?it/s]\n",
      "100%|███████████████████████████████████████████████████████████████████████████████████████████████████████████████████████████████████████████████████████████████████████████████████████████████████████████████████████████████████████████████████████████| 557/557 [00:03<00:00, 169.99it/s]"
     ]
    },
    {
     "name": "stdout",
     "output_type": "stream",
     "text": [
      "test stuff 0.6481149012567325 0.4793536804308797 0.6050269299820467\n"
     ]
    },
    {
     "name": "stderr",
     "output_type": "stream",
     "text": [
      "\n"
     ]
    }
   ],
   "source": [
    "for name in glob.glob(\"cache/LINEVUL_*\"):\n",
    "    print(name)\n",
    "    graphs = load_test(name)\n",
    "    test_loader = DataLoader(graphs, 1, shuffle=False)\n",
    "    test_acc, test_acc_c, test_acc_o = eval_acc(model, test_loader, \"cpu\")\n",
    "    print(\"test stuff\", test_acc, test_acc_c, test_acc_o)\n"
   ]
  },
  {
   "cell_type": "code",
   "execution_count": 59,
   "metadata": {},
   "outputs": [
    {
     "name": "stderr",
     "output_type": "stream",
     "text": [
      "100%|████████████████████████████████████████████████████████████████████████████████████████████████████████████████████████████████████████████████████████████████████████████████████████████████████████████████████████████████████████████████████████████████| 1/1 [00:00<00:00, 57.11it/s]"
     ]
    },
    {
     "name": "stdout",
     "output_type": "stream",
     "text": [
      "cache/LINEVUL_TEST/179598_1.cpg.pt.gz\n",
      "tensor(0.6698, grad_fn=<SelectBackward0>)\n",
      "tensor([[0.3302, 0.6698]], grad_fn=<ExpBackward0>)\n",
      "cache/LINEVUL_TEST/182081_1.cpg.pt.gz\n",
      "\"ProblemExpression\" \"php_error_docref(NULL TSRMLS_CC, E_WARNING, You must have 3x3 array);\"\"25:25 1:72\"\n",
      "\n",
      "\"DeclaredReferenceExpression\" \"IS_ARRAY\"\"24:24 23:31\"\n",
      "\n",
      "\"DeclaredReferenceExpression\" \"IS_ARRAY\"\"23:23 104:112\"\n",
      "\n",
      "\"ProblemExpression\" \"php_error_docref(NULL TSRMLS_CC, E_WARNING, You must have 3x3 array);\"\"18:18 1:72\"\n",
      "\n",
      "\"UnaryOperator\" \"&var2\"\"30:30 59:64\"\n",
      "\n",
      "\"UnaryOperator\" \"&var\"\"23:23 66:70\"\n",
      "\n",
      "\"ParamVariableDeclaration\" \"\"\" \"\n",
      "\n",
      "\"ParamVariableDeclaration\" \"\"\" \"\n",
      "\n",
      "\"BinaryOperator\" \"Z_TYPE_PP(var) == IS_ARRAY\"\"23:23 86:112\"\n",
      "\n",
      "\"ParamVariableDeclaration\" \"\"\" \"\n",
      "\n",
      "\"ParamVariableDeclaration\" \"\"\" \"\n",
      "\n",
      "\"ParamVariableDeclaration\" \"\"\" \"\n",
      "\n",
      "\"DeclaredReferenceExpression\" \"SUCCESS\"\"23:23 75:82\"\n",
      "\n",
      "\"DeclaredReferenceExpression\" \"SUCCESS\"\"30:30 69:76\"\n",
      "\n",
      "\"ParamVariableDeclaration\" \"\"\" \"\n",
      "\n",
      "\"BinaryOperator\" \"Z_TYPE_PP(var) != IS_ARRAY\"\"24:24 5:31\"\n",
      "\n",
      "\"CallExpression\" \"Z_ARRVAL_P(hash_matrix)\"\"16:16 32:55\"\n",
      "\n",
      "\"ParamVariableDeclaration\" \"\"\" \"\n",
      "\n",
      "\"ParamVariableDeclaration\" \"\"\" \"\n",
      "\n",
      "\"CallExpression\" \"Z_TYPE_PP(var)\"\"23:23 86:100\"\n",
      "\n"
     ]
    },
    {
     "name": "stderr",
     "output_type": "stream",
     "text": [
      "\n"
     ]
    }
   ],
   "source": [
    "from torch_geometric.utils import to_dense_adj\n",
    "\n",
    "model.eval()\n",
    "# https://github.com/php/php-src/commit/2938329ce19cb8c4197dec146c3ec887c6f61d01\n",
    "for name in tqdm(glob.glob(\"cache/LINEVUL_TEST/179598_1*\")):\n",
    "    print(name)\n",
    "    object_file = pickle.load(gzip.open(name))\n",
    "    data = Data(x=torch.cat((object_file[\"astenc\"], object_file[\"codeenc\"]), dim=1), edge_index=object_file[\"edge_index\"], y=object_file[\"y\"])\n",
    "    data.edge_index = data.edge_index.long()\n",
    "    data.x = data.x.float()\n",
    "    c_logs, o_logs, co_logs = model(data)\n",
    "    print(o_logs.exp()[0][1])\n",
    "    print(o_logs.exp())\n",
    "    print(graph)\n",
    "    \n",
    "    edge_c, edge_t, node_c, node_t = model.layer.explain(data)\n",
    "    node_mask = node_c.sigmoid()\n",
    "    edge_mask = to_dense_adj(data.edge_index, edge_attr=edge_c)[0]\n",
    "    for i in torch.topk(node_mask, 20).indices:\n",
    "        #print(\"flows from\")\n",
    "        #for j in torch.topk(edge_mask.T[i], 4).indices:\n",
    "        #    print(explaing.file[j], explaing.lines[j])\n",
    "        #print(\"over\")\n",
    "        print( object_file[\"ast\"][i] + \" \" + object_file[\"code\"][i] + object_file[\"lines\"][i] + \"\\n\")\n",
    "        #print(\"flowing to\")\n",
    "        #for j in torch.topk(edge_mask[i], 4).indices:\n",
    "        #    print(explaing.file[j], explaing.lines[j])\n",
    "    \n",
    "        "
   ]
  },
  {
   "cell_type": "code",
   "execution_count": 105,
   "metadata": {},
   "outputs": [
    {
     "name": "stderr",
     "output_type": "stream",
     "text": [
      "18864it [00:14, 1332.57it/s]\n"
     ]
    }
   ],
   "source": [
    "import csv\n",
    "csv.field_size_limit(1000000000)\n",
    "groundtruth = {}\n",
    "with open(\"../test.csv\", 'r', newline='') as csvfile:\n",
    "        reader = csv.DictReader(csvfile)\n",
    "        for row in tqdm(reader):\n",
    "            if row[\"target\"] == \"0\":\n",
    "                continue\n",
    "            processed = row[\"processed_func\"]\n",
    "            groundtruth[row[\"index\"]] = row[\"flaw_line_index\"].split(\",\")"
   ]
  },
  {
   "cell_type": "code",
   "execution_count": 43,
   "metadata": {},
   "outputs": [
    {
     "name": "stdout",
     "output_type": "stream",
     "text": [
      "Collecting python-Levenshtein\n",
      "  Downloading python_Levenshtein-0.21.0-py3-none-any.whl (9.4 kB)\n",
      "Requirement already satisfied: Levenshtein==0.21.0 in /Users/i534627/Projects/patchdetect/models/taintgraph/env/lib/python3.7/site-packages (from python-Levenshtein) (0.21.0)\n",
      "Requirement already satisfied: rapidfuzz<4.0.0,>=2.3.0 in /Users/i534627/Projects/patchdetect/models/taintgraph/env/lib/python3.7/site-packages (from Levenshtein==0.21.0->python-Levenshtein) (3.1.1)\n",
      "Installing collected packages: python-Levenshtein\n",
      "Successfully installed python-Levenshtein-0.21.0\n",
      "\n",
      "\u001b[1m[\u001b[0m\u001b[34;49mnotice\u001b[0m\u001b[1;39;49m]\u001b[0m\u001b[39;49m A new release of pip available: \u001b[0m\u001b[31;49m22.3.1\u001b[0m\u001b[39;49m -> \u001b[0m\u001b[32;49m23.1.2\u001b[0m\n",
      "\u001b[1m[\u001b[0m\u001b[34;49mnotice\u001b[0m\u001b[1;39;49m]\u001b[0m\u001b[39;49m To update, run: \u001b[0m\u001b[32;49mpip install --upgrade pip\u001b[0m\n"
     ]
    }
   ],
   "source": [
    "!pip install python-Levenshtein\n"
   ]
  },
  {
   "cell_type": "code",
   "execution_count": 150,
   "metadata": {},
   "outputs": [
    {
     "name": "stderr",
     "output_type": "stream",
     "text": [
      "100%|████████████████████████████████████████████████████████████████████████████████████████████████████████████████████████████████████████████████████████████████████████████████████████████████████████████████████████████████████████████████████████████| 593/593 [00:10<00:00, 59.22it/s]\n"
     ]
    }
   ],
   "source": [
    "import os\n",
    "import pickle\n",
    "import gzip\n",
    "from torch_geometric.utils import to_dense_adj\n",
    "from Levenshtein import distance as levenshtein_distance\n",
    "\n",
    "top1=0\n",
    "top5=0\n",
    "top10=0\n",
    "ifa=[]\n",
    "num = 0\n",
    "for name in tqdm(glob.glob(\"cache/LINEVUL_TEST/*_1*\")):\n",
    "    #print(name)\n",
    "    idx = name.split(\"/\")[-1].split(\"_\")[0]\n",
    "    object_file = pickle.load(gzip.open(name))\n",
    "    data = Data(x=torch.cat((object_file[\"astenc\"], object_file[\"codeenc\"]), dim=1), edge_index=object_file[\"edge_index\"], y=object_file[\"y\"])\n",
    "    data.edge_index = data.edge_index.long()\n",
    "    data.x = data.x.float()\n",
    "    c_logs, o_logs, co_logs = model(data)\n",
    "\n",
    "    edge_c, edge_t, node_c, node_t = model.layer.explain(data)\n",
    "    node_mask = node_c.sigmoid()\n",
    "    count = 0\n",
    "    if groundtruth[idx][0] == \"\":\n",
    "        continue\n",
    "    for i in torch.topk(node_mask, len(node_mask)).indices:\n",
    "        if \":\" not in object_file[\"lines\"][i]:\n",
    "            continue\n",
    "        count += 1\n",
    "        lower = object_file[\"lines\"][i].split(\" \")[0].split(\":\")[0].replace(\"\\\"\",\"\")\n",
    "        upper = object_file[\"lines\"][i].split(\" \")[0].split(\":\")[1].replace(\"\\\"\",\"\")\n",
    "        r = list(range(int(lower), int(upper)))\n",
    "        hit = 0\n",
    "        for ground in groundtruth[idx]:\n",
    "            if ground == \"\":\n",
    "                continue\n",
    "            ground = int(ground)\n",
    "            if ground in r:\n",
    "                hit = 1\n",
    "                ifa.append(count)\n",
    "                break\n",
    "        if count <= 1 and hit:\n",
    "            top1 += 1\n",
    "        if count <= 5 and hit:\n",
    "            top5 += 1\n",
    "        if count <= 10 and hit:\n",
    "            top10 += 1\n",
    "        \n",
    "        if hit:\n",
    "            num += 1\n",
    "            break\n",
    "    \n",
    "        "
   ]
  },
  {
   "cell_type": "code",
   "execution_count": 149,
   "metadata": {},
   "outputs": [
    {
     "data": {
      "text/plain": [
       "0.16009280742459397"
      ]
     },
     "execution_count": 149,
     "metadata": {},
     "output_type": "execute_result"
    }
   ],
   "source": [
    "top10/num"
   ]
  },
  {
   "cell_type": "code",
   "execution_count": 145,
   "metadata": {},
   "outputs": [
    {
     "data": {
      "text/plain": [
       "825.9582366589327"
      ]
     },
     "execution_count": 145,
     "metadata": {},
     "output_type": "execute_result"
    }
   ],
   "source": [
    "sum(ifa)/num"
   ]
  },
  {
   "cell_type": "code",
   "execution_count": null,
   "metadata": {},
   "outputs": [],
   "source": []
  }
 ],
 "metadata": {
  "kernelspec": {
   "display_name": "Python 3 (ipykernel)",
   "language": "python",
   "name": "python3"
  },
  "language_info": {
   "codemirror_mode": {
    "name": "ipython",
    "version": 3
   },
   "file_extension": ".py",
   "mimetype": "text/x-python",
   "name": "python",
   "nbconvert_exporter": "python",
   "pygments_lexer": "ipython3",
   "version": "3.7.16"
  },
  "vscode": {
   "interpreter": {
    "hash": "dff5fd2a8179060ff25b3eeeaed448bc9a2dfe4438c9b63d106cffbef4e81482"
   }
  }
 },
 "nbformat": 4,
 "nbformat_minor": 2
}
