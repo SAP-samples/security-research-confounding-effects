{
 "cells": [
  {
   "cell_type": "code",
   "execution_count": 2,
   "metadata": {},
   "outputs": [],
   "source": [
    "import os\n",
    "os.chdir(\"..\")"
   ]
  },
  {
   "cell_type": "code",
   "execution_count": 3,
   "metadata": {},
   "outputs": [],
   "source": [
    "from torch_geometric.data import Data\n",
    "import glob\n",
    "from tqdm import tqdm\n",
    "import torch\n",
    "from utils import get_classification_model"
   ]
  },
  {
   "cell_type": "code",
   "execution_count": 4,
   "metadata": {},
   "outputs": [],
   "source": [
    "import pickle\n",
    "import gzip\n",
    "from collections import defaultdict"
   ]
  },
  {
   "cell_type": "code",
   "execution_count": 5,
   "metadata": {},
   "outputs": [],
   "source": [
    "from params import CLASSIFIER_PARAMS"
   ]
  },
  {
   "cell_type": "code",
   "execution_count": 6,
   "metadata": {},
   "outputs": [],
   "source": [
    "CLASSIFIER_PARAMS[\"features\"] = 150\n",
    "CLASSIFIER_PARAMS[\"classes\"] = 1\n",
    "CLASSIFIER_PARAMS[\"edge_dim\"] = None\n",
    "model = get_classification_model(CLASSIFIER_PARAMS)\n",
    "model.load(\"results/REVEAL_CLASSIFIER_LINEVUL_baseline/checkpoint/\")"
   ]
  },
  {
   "cell_type": "code",
   "execution_count": 7,
   "metadata": {},
   "outputs": [
    {
     "data": {
      "text/plain": [
       "719033"
      ]
     },
     "execution_count": 7,
     "metadata": {},
     "output_type": "execute_result"
    }
   ],
   "source": [
    "sum(p.numel() for p in model.parameters() if p.requires_grad)"
   ]
  },
  {
   "cell_type": "code",
   "execution_count": 8,
   "metadata": {},
   "outputs": [
    {
     "name": "stderr",
     "output_type": "stream",
     "text": [
      "0it [00:00, ?it/s]"
     ]
    },
    {
     "name": "stderr",
     "output_type": "stream",
     "text": [
      "18864it [00:09, 1909.34it/s]\n"
     ]
    }
   ],
   "source": [
    "import csv\n",
    "csv.field_size_limit(1000000000)\n",
    "groundtruth = {}\n",
    "with open(\"data/test.csv\", 'r', newline='', encoding=\"utf-8\") as csvfile:\n",
    "        reader = csv.DictReader(csvfile)\n",
    "        for row in tqdm(reader):\n",
    "            if row[\"target\"] == \"0\":\n",
    "                continue\n",
    "            if row[\"flaw_line\"] is None:\n",
    "                 continue\n",
    "            groundtruth[row[\"index\"]] = row[\"flaw_line\"].split(\"/~/\")"
   ]
  },
  {
   "cell_type": "code",
   "execution_count": 10,
   "metadata": {},
   "outputs": [],
   "source": [
    "import re\n",
    "\n",
    "@torch.no_grad()\n",
    "def sort_lines(scores):\n",
    "    _, indices = torch.sort(torch.as_tensor(scores), descending=True)\n",
    "    return indices.tolist()\n",
    "\n",
    "\n",
    "def get_flaw_indices(lines, flaw_lines):\n",
    "    indices = []\n",
    "    def clean(line):\n",
    "        # line = re.sub(\"^\\s\", \"\", line)\n",
    "        # line = re.sub(\"\\s$\", \"\", line)\n",
    "        line = re.sub(\"\\s\", \"\", line)\n",
    "        return line\n",
    "    flaw_lines = [clean(flaw_line) for flaw_line in flaw_lines if len(clean(flaw_line)) != 0]\n",
    "    lines = [clean(line) for line in lines]\n",
    "\n",
    "    for i, line in enumerate(lines):\n",
    "        if len(line) == 0:\n",
    "            continue\n",
    "        if any(line in flaw_line for flaw_line in flaw_lines) or \\\n",
    "            any(flaw_line in line for flaw_line in flaw_lines):\n",
    "            indices.append(i)\n",
    "    return indices\n",
    "\n",
    "\n",
    "def min_rank_of_indices(sorted_indices, searched_indices):\n",
    "    rank_mapping = {index: rank for rank, index in enumerate(sorted_indices)}\n",
    "    return min(\n",
    "        (rank_mapping[index] for index in searched_indices if index in rank_mapping),\n",
    "        default=float(\"inf\"),\n",
    "    )\n",
    "\n",
    "def get_c_lines(idx, set=\"test\", label=1):\n",
    "    with open(f\"data/test/{set}/{idx}_{label}.c\", \"r\", encoding=\"utf-8\") as f:\n",
    "        return f.readlines()"
   ]
  },
  {
   "cell_type": "code",
   "execution_count": 11,
   "metadata": {},
   "outputs": [],
   "source": [
    "from torchray.attribution.common import (\n",
    "    NullContext,\n",
    "    gradient_to_saliency,\n",
    "    get_backward_gradient,\n",
    "    attach_debug_probes,\n",
    "    get_module,\n",
    "    Probe,\n",
    "    resize_saliency,\n",
    "    imsmooth,\n",
    ")\n",
    "\n",
    "from torch_geometric.nn.pool import global_mean_pool\n",
    "\n",
    "def gradient_to_grad_cam_saliency(x, batch):\n",
    "    r\"\"\"Convert activation and gradient to a Grad-CAM saliency map.\n",
    "    The tensor :attr:`x` must have a valid gradient ``x.grad``.\n",
    "    The function then computes the saliency map :math:`s`: given by:\n",
    "    .. math::\n",
    "        s_{n1u} = \\max\\{0, \\sum_{c}x_{ncu}\\cdot dx_{ncu}\\}\n",
    "    Args:\n",
    "        x (:class:`torch.Tensor`): activation tensor with a valid gradient.\n",
    "    Returns:\n",
    "        :class:`torch.Tensor`: saliency map.\n",
    "    \"\"\"\n",
    "    # Apply global average pooling (GAP) to gradient.\n",
    "\n",
    "    # problem mit batch_size groesser eins (graphen beeinflussen sich gegenseitig)\n",
    "    # grad_weight = torch.mean(x.grad, 0, keepdim=True)\n",
    "    grad_weight = global_mean_pool(x.grad, batch)\n",
    "    grad_weight_batched = grad_weight[batch]\n",
    "\n",
    "    # Linearly combine activations and GAP gradient weights.\n",
    "\n",
    "    # saliency_map = torch.sum(grad_weight * x, 1, keepdim=True)\n",
    "    # saliency_map = torch.matmul(x, grad_weight.view(-1))\n",
    "    saliency_map = torch.sum(x * grad_weight_batched, -1)\n",
    "    # Apply ReLU to visualization.\n",
    "#     saliency_map = torch.clamp(saliency_map, min=0)\n",
    "    saliency_map = abs(saliency_map)\n",
    "    return saliency_map\n",
    "\n",
    "def saliency(model,\n",
    "             input,\n",
    "             target,\n",
    "             saliency_layer='',\n",
    "             resize=False,\n",
    "             resize_mode='bilinear',\n",
    "             smooth=0,\n",
    "             context_builder=NullContext,\n",
    "             gradient_to_saliency=gradient_to_saliency,\n",
    "             get_backward_gradient=get_backward_gradient,\n",
    "             debug=False):\n",
    "    \"\"\"\n",
    "    monkey-patch torchray saliency\n",
    "    \"\"\"\n",
    "\n",
    "    # Clear any existing gradient.\n",
    "    # if input.grad is not None:\n",
    "    #     input.grad.data.zero_()\n",
    "\n",
    "    # Disable gradients for model parameters.\n",
    "    # orig_requires_grad = {}\n",
    "    # for name, param in model.named_parameters():\n",
    "    #     orig_requires_grad[name] = param.requires_grad\n",
    "    #     param.requires_grad_(False)\n",
    "\n",
    "    # Set model to eval mode.\n",
    "    model.train()\n",
    "    if model.training:\n",
    "        orig_is_training = True\n",
    "        # model.eval()\n",
    "    else:\n",
    "        orig_is_training = False\n",
    "\n",
    "    # Attach debug probes to every module.\n",
    "    debug_probes = attach_debug_probes(model, debug=debug)\n",
    "\n",
    "    # Attach a probe to the saliency layer.\n",
    "    probe_target = 'input' if saliency_layer == '' else 'output'\n",
    "    saliency_layer = get_module(model, saliency_layer)\n",
    "    assert saliency_layer is not None, 'We could not find the saliency layer'\n",
    "    probe = Probe(saliency_layer, target=probe_target)\n",
    "\n",
    "    # Do a forward and backward pass.\n",
    "    with context_builder():\n",
    "        output = model.loss(input)[0]\n",
    "        # backward_gradient = get_backward_gradient(output, target)\n",
    "        output.backward()\n",
    "\n",
    "    # Get saliency map from gradient.\n",
    "    saliency_map = gradient_to_saliency(probe.data[0], input.batch)\n",
    "\n",
    "    # Resize saliency map.\n",
    "    saliency_map = resize_saliency(input.x,\n",
    "                                   saliency_map,\n",
    "                                   resize,\n",
    "                                   mode=resize_mode)\n",
    "\n",
    "    # Smooth saliency map.\n",
    "    if smooth > 0:\n",
    "        saliency_map = imsmooth(\n",
    "            saliency_map,\n",
    "            sigma=smooth * max(saliency_map.shape[2:]),\n",
    "            padding_mode='replicate'\n",
    "        )\n",
    "\n",
    "    # Remove probe.\n",
    "    probe.remove()\n",
    "\n",
    "    # Restore gradient saving for model parameters.\n",
    "    # for name, param in model.named_parameters():\n",
    "    #     param.requires_grad_(orig_requires_grad[name])\n",
    "\n",
    "    # Restore model's original mode.\n",
    "    if orig_is_training:\n",
    "        model.train()\n",
    "\n",
    "    if debug:\n",
    "        return saliency_map, debug_probes\n",
    "    else:\n",
    "        return saliency_map\n",
    "\n",
    "def grad_cam(*args,\n",
    "             saliency_layer,\n",
    "             gradient_to_saliency=gradient_to_grad_cam_saliency,\n",
    "             **kwargs):\n",
    "    return saliency(*args,\n",
    "                    saliency_layer=saliency_layer,\n",
    "                    gradient_to_saliency=gradient_to_saliency,\n",
    "                    **kwargs,)"
   ]
  },
  {
   "cell_type": "code",
   "execution_count": 12,
   "metadata": {},
   "outputs": [
    {
     "data": {
      "text/plain": [
       "GraphClassifier(\n",
       "  (encoder): CompositeGraphLevelEncoder(\n",
       "    (node_level_encoder): GGNNEncoder(\n",
       "      (layers): ModuleList()\n",
       "      (norms): ModuleList()\n",
       "      (ggnn): GatedGraphConv(200, num_layers=8)\n",
       "      (out): Linear(in_features=200, out_features=200, bias=True)\n",
       "    )\n",
       "  )\n",
       "  (classifier): MLPClassifier(\n",
       "    (layers): ModuleList(\n",
       "      (0): Linear(in_features=200, out_features=256, bias=True)\n",
       "      (1): Linear(in_features=256, out_features=128, bias=True)\n",
       "      (2): Linear(in_features=128, out_features=256, bias=True)\n",
       "      (3): Linear(in_features=256, out_features=1, bias=True)\n",
       "    )\n",
       "  )\n",
       ")"
      ]
     },
     "execution_count": 12,
     "metadata": {},
     "output_type": "execute_result"
    }
   ],
   "source": [
    "model"
   ]
  },
  {
   "cell_type": "code",
   "execution_count": 20,
   "metadata": {},
   "outputs": [],
   "source": [
    "def eval_linelevel_merged(CPG_SET, C_SET):\n",
    "    ranks = []\n",
    "    with open(\"data/merged.txt\", \"r\") as f:\n",
    "        successful_idxs = set(f.read().split(\"\\n\"))\n",
    "    print(f\"Evaluating {CPG_SET}\")\n",
    "    for name in list(map(lambda idx: f\"cache/{CPG_SET}/{idx}_1.cpg.pt.gz\", successful_idxs)):\n",
    "        idx = name.split(\"/\")[-1].split(\"_\")[0]\n",
    "        if idx not in groundtruth:\n",
    "            continue\n",
    "\n",
    "        c_lines = get_c_lines(idx, C_SET)\n",
    "        flaw_indices = get_flaw_indices(c_lines, groundtruth[idx])\n",
    "        if len(flaw_indices) < 1:\n",
    "            continue\n",
    "\n",
    "        object_file = pickle.load(gzip.open(name))\n",
    "        data = Data(x=torch.cat((object_file[\"astenc\"], object_file[\"codeenc\"]), dim=1), edge_index=object_file[\"edge_index\"], y=object_file[\"y\"])\n",
    "        data.edge_index = data.edge_index.long()\n",
    "        data.x = data.x.float()\n",
    "        \n",
    "        target = torch.tensor([1.], requires_grad=True)\n",
    "\n",
    "        node_c = grad_cam(model, data, target, saliency_layer=\"encoder.node_level_encoder.ggnn\")[0]\n",
    "        node_mask = node_c.sigmoid()\n",
    "\n",
    "        linescores = defaultdict(int)\n",
    "        for node_idx, score in enumerate(node_mask):\n",
    "            if \":\" not in object_file[\"lines\"][node_idx]:\n",
    "                continue\n",
    "            lower = int(object_file[\"lines\"][node_idx].split(\" \")[0].split(\":\")[0].replace(\"\\\"\",\"\"))\n",
    "            upper = int(object_file[\"lines\"][node_idx].split(\" \")[0].split(\":\")[1].replace(\"\\\"\",\"\"))\n",
    "            lines = list(range(int(lower), int(upper)+1))\n",
    "            for line in lines:\n",
    "                linescores[line] += score/len(lines)\n",
    "        lines = [0 for _ in range(max(linescores.keys()))]\n",
    "        for line, score in linescores.items():\n",
    "            lines[line-1] = score\n",
    "        \n",
    "        sorted_lines = sort_lines(lines)\n",
    "        rank = min_rank_of_indices(sorted_lines, flaw_indices)\n",
    "        ranks.append(rank)\n",
    "    ranks = torch.as_tensor(ranks)\n",
    "    ranks = ranks[ranks.isfinite()]\n",
    "    def topk_acc(k):\n",
    "            return round((\n",
    "                torch.sum(ranks < k) / len(ranks)\n",
    "            ).item() * 100, 2)\n",
    "    print({\n",
    "        \"Top1-Acc\": topk_acc(1),\n",
    "        \"Top3-Acc\": topk_acc(3),\n",
    "        \"Top5-Acc\": topk_acc(5),\n",
    "    })\n",
    "    \"\"\"print({\n",
    "        \"Top1-Acc\": torch.sum(ranks < 1) / len(ranks),\n",
    "        \"Top2-Acc\": torch.sum(ranks < 2) / len(ranks),\n",
    "        \"Top3-Acc\": torch.sum(ranks < 3) / len(ranks),\n",
    "        \"Top5-Acc\": torch.sum(ranks < 5) / len(ranks),\n",
    "        \"Top10-Acc\": torch.sum(ranks < 10) / len(ranks),\n",
    "        # \"Top100-Acc\": torch.sum(ranks < 100) / len(ranks),\n",
    "        # \"IFA\": torch.mean(ranks.float()),\n",
    "        \"Count\": len(ranks),\n",
    "    })\"\"\""
   ]
  },
  {
   "cell_type": "code",
   "execution_count": 21,
   "metadata": {},
   "outputs": [
    {
     "name": "stdout",
     "output_type": "stream",
     "text": [
      "Evaluating LINEVUL_TEST\n",
      "{'Top1-Acc': 43.09, 'Top3-Acc': 59.67, 'Top5-Acc': 67.96}\n"
     ]
    }
   ],
   "source": [
    "eval_linelevel_merged(\"LINEVUL_TEST\", \"test\")"
   ]
  },
  {
   "cell_type": "code",
   "execution_count": 22,
   "metadata": {},
   "outputs": [
    {
     "name": "stdout",
     "output_type": "stream",
     "text": [
      "Evaluating LINEVUL_CHROMIUM\n",
      "{'Top1-Acc': 44.2, 'Top3-Acc': 60.77, 'Top5-Acc': 69.61}\n"
     ]
    }
   ],
   "source": [
    "eval_linelevel_merged(\"LINEVUL_CHROMIUM\", \"apply_codestyle_Chromium\")"
   ]
  },
  {
   "cell_type": "code",
   "execution_count": 23,
   "metadata": {},
   "outputs": [
    {
     "name": "stdout",
     "output_type": "stream",
     "text": [
      "Evaluating LINEVUL_GNU\n",
      "{'Top1-Acc': 39.78, 'Top3-Acc': 59.12, 'Top5-Acc': 68.51}\n"
     ]
    }
   ],
   "source": [
    "eval_linelevel_merged(\"LINEVUL_GNU\", \"apply_codestyle_GNU\")"
   ]
  },
  {
   "cell_type": "code",
   "execution_count": 24,
   "metadata": {},
   "outputs": [
    {
     "name": "stdout",
     "output_type": "stream",
     "text": [
      "Evaluating LINEVUL_GOOGLE\n",
      "{'Top1-Acc': 44.75, 'Top3-Acc': 61.33, 'Top5-Acc': 69.61}\n"
     ]
    }
   ],
   "source": [
    "eval_linelevel_merged(\"LINEVUL_GOOGLE\", \"apply_codestyle_Google\")"
   ]
  },
  {
   "cell_type": "code",
   "execution_count": 25,
   "metadata": {},
   "outputs": [
    {
     "name": "stdout",
     "output_type": "stream",
     "text": [
      "Evaluating LINEVUL_LLVM\n",
      "{'Top1-Acc': 44.2, 'Top3-Acc': 61.33, 'Top5-Acc': 69.61}\n"
     ]
    }
   ],
   "source": [
    "eval_linelevel_merged(\"LINEVUL_LLVM\", \"apply_codestyle_LLVM\")"
   ]
  },
  {
   "cell_type": "code",
   "execution_count": 26,
   "metadata": {},
   "outputs": [
    {
     "name": "stdout",
     "output_type": "stream",
     "text": [
      "Evaluating LINEVUL_MOZILLA\n",
      "{'Top1-Acc': 43.65, 'Top3-Acc': 61.88, 'Top5-Acc': 70.72}\n"
     ]
    }
   ],
   "source": [
    "eval_linelevel_merged(\"LINEVUL_MOZILLA\", \"apply_codestyle_Mozilla\")"
   ]
  },
  {
   "cell_type": "code",
   "execution_count": 13,
   "metadata": {},
   "outputs": [],
   "source": [
    "from scipy.stats import nhypergeom\n",
    "\n",
    "def expected_rank(count_lines, count_flaw_lines):\n",
    "    dist = nhypergeom(count_lines, count_lines - count_flaw_lines, 1)\n",
    "    return dist.mean()"
   ]
  },
  {
   "cell_type": "code",
   "execution_count": 14,
   "metadata": {},
   "outputs": [],
   "source": [
    "def eval_linelevel_expected(CPG_SET, C_SET):\n",
    "    ranks = []\n",
    "    with open(\"data/merged.txt\", \"r\") as f:\n",
    "        successful_idxs = set(f.read().split(\"\\n\"))\n",
    "    print(f\"Evaluating {CPG_SET}\")\n",
    "    for name in list(map(lambda idx: f\"cache/{CPG_SET}/{idx}_1.cpg.pt.gz\", successful_idxs)):\n",
    "        idx = name.split(\"/\")[-1].split(\"_\")[0]\n",
    "        if idx not in groundtruth:\n",
    "            continue\n",
    "\n",
    "        c_lines = get_c_lines(idx, C_SET)\n",
    "        flaw_indices = get_flaw_indices(c_lines, groundtruth[idx])\n",
    "        if len(flaw_indices) < 1:\n",
    "            continue\n",
    "\n",
    "        object_file = pickle.load(gzip.open(name))\n",
    "        data = Data(x=torch.cat((object_file[\"astenc\"], object_file[\"codeenc\"]), dim=1), edge_index=object_file[\"edge_index\"], y=object_file[\"y\"])\n",
    "        \n",
    "        node_mask = torch.rand(data.x.shape[:-1]).sigmoid()\n",
    "\n",
    "        linescores = defaultdict(int)\n",
    "        for node_idx, score in enumerate(node_mask):\n",
    "            if \":\" not in object_file[\"lines\"][node_idx]:\n",
    "                continue\n",
    "            lower = int(object_file[\"lines\"][node_idx].split(\" \")[0].split(\":\")[0].replace(\"\\\"\",\"\"))\n",
    "            upper = int(object_file[\"lines\"][node_idx].split(\" \")[0].split(\":\")[1].replace(\"\\\"\",\"\"))\n",
    "            lines = list(range(int(lower), int(upper)+1))\n",
    "            for line in lines:\n",
    "                linescores[line] += score/len(lines)\n",
    "        lines = [0 for _ in range(max(linescores.keys()))]\n",
    "        for line, score in linescores.items():\n",
    "            lines[line-1] = score\n",
    "        \n",
    "        ranks.append(expected_rank(len(lines), len(flaw_indices)))\n",
    "    ranks = torch.as_tensor(ranks)\n",
    "    ranks = ranks[ranks.isfinite()]\n",
    "    def topk_acc(k):\n",
    "            return round((\n",
    "                torch.sum(ranks < k) / len(ranks)\n",
    "            ).item() * 100, 2)\n",
    "    print({\n",
    "        \"Top1-Acc\": topk_acc(1),\n",
    "        \"Top3-Acc\": topk_acc(3),\n",
    "        \"Top5-Acc\": topk_acc(5),\n",
    "    })"
   ]
  },
  {
   "cell_type": "code",
   "execution_count": 15,
   "metadata": {},
   "outputs": [
    {
     "name": "stdout",
     "output_type": "stream",
     "text": [
      "Evaluating LINEVUL_TEST\n",
      "{'Top1-Acc': 26.86, 'Top3-Acc': 46.86, 'Top5-Acc': 57.71}\n"
     ]
    }
   ],
   "source": [
    "eval_linelevel_expected(\"LINEVUL_TEST\", \"test\")"
   ]
  },
  {
   "cell_type": "code",
   "execution_count": 16,
   "metadata": {},
   "outputs": [
    {
     "name": "stdout",
     "output_type": "stream",
     "text": [
      "Evaluating LINEVUL_CHROMIUM\n",
      "{'Top1-Acc': 26.86, 'Top3-Acc': 46.86, 'Top5-Acc': 57.71}\n"
     ]
    }
   ],
   "source": [
    "eval_linelevel_expected(\"LINEVUL_CHROMIUM\", \"apply_codestyle_Chromium\")"
   ]
  },
  {
   "cell_type": "code",
   "execution_count": 17,
   "metadata": {},
   "outputs": [
    {
     "name": "stdout",
     "output_type": "stream",
     "text": [
      "Evaluating LINEVUL_MOZILLA\n",
      "{'Top1-Acc': 25.71, 'Top3-Acc': 45.14, 'Top5-Acc': 57.71}\n"
     ]
    }
   ],
   "source": [
    "eval_linelevel_expected(\"LINEVUL_MOZILLA\", \"apply_codestyle_Mozilla\")"
   ]
  },
  {
   "cell_type": "code",
   "execution_count": 18,
   "metadata": {},
   "outputs": [
    {
     "name": "stdout",
     "output_type": "stream",
     "text": [
      "Evaluating LINEVUL_GOOGLE\n",
      "{'Top1-Acc': 28.57, 'Top3-Acc': 47.43, 'Top5-Acc': 57.71}\n"
     ]
    }
   ],
   "source": [
    "eval_linelevel_expected(\"LINEVUL_GOOGLE\", \"apply_codestyle_Google\")"
   ]
  },
  {
   "cell_type": "code",
   "execution_count": 19,
   "metadata": {},
   "outputs": [
    {
     "name": "stdout",
     "output_type": "stream",
     "text": [
      "Evaluating LINEVUL_LLVM\n",
      "{'Top1-Acc': 28.57, 'Top3-Acc': 46.86, 'Top5-Acc': 57.71}\n"
     ]
    }
   ],
   "source": [
    "eval_linelevel_expected(\"LINEVUL_LLVM\", \"apply_codestyle_LLVM\")"
   ]
  },
  {
   "cell_type": "code",
   "execution_count": 57,
   "metadata": {},
   "outputs": [
    {
     "name": "stdout",
     "output_type": "stream",
     "text": [
      "Evaluating LINEVUL_TEST\n"
     ]
    },
    {
     "name": "stderr",
     "output_type": "stream",
     "text": [
      "100%|██████████| 9960/9960 [07:19<00:00, 22.69it/s]\n"
     ]
    }
   ],
   "source": [
    "\n",
    "preds = []\n",
    "labels = []\n",
    "lens = []\n",
    "CPG_SET = \"LINEVUL_TEST\"\n",
    "C_SET = \"test\"\n",
    "print(f\"Evaluating {CPG_SET}\")\n",
    "for name in tqdm(list(glob.glob(f\"./cache/{CPG_SET}/*.cpg.pt.gz\"))):\n",
    "    name = name.replace(\"\\\\\", \"/\")\n",
    "    idx = name.split(\"/\")[-1].split(\"_\")[0]\n",
    "    label = int(name.split(\"/\")[-1].split(\"_\")[-1].split(\".\")[0])\n",
    "\n",
    "    c_lines = get_c_lines(idx, C_SET, label=label)\n",
    "\n",
    "    object_file = pickle.load(gzip.open(name))\n",
    "    data = Data(x=torch.cat((object_file[\"astenc\"], object_file[\"codeenc\"]), dim=1), edge_index=object_file[\"edge_index\"], y=object_file[\"y\"])\n",
    "    data.edge_index = data.edge_index.long()\n",
    "    data.x = data.x.float()\n",
    "\n",
    "    pred = model.classify(data)\n",
    "\n",
    "    preds.append(pred.item())\n",
    "    labels.append(label)\n",
    "    lens.append(len(\"\".join(c_lines)))\n"
   ]
  },
  {
   "cell_type": "code",
   "execution_count": 31,
   "metadata": {},
   "outputs": [],
   "source": [
    "import numpy as np\n",
    "import matplotlib.pyplot as plt"
   ]
  },
  {
   "cell_type": "code",
   "execution_count": 58,
   "metadata": {},
   "outputs": [],
   "source": [
    "preds = np.asarray(preds)\n",
    "preds[preds >= 0] = 1\n",
    "preds[preds < 0] = 0"
   ]
  },
  {
   "cell_type": "code",
   "execution_count": 59,
   "metadata": {},
   "outputs": [],
   "source": [
    "correct = preds == labels"
   ]
  },
  {
   "cell_type": "code",
   "execution_count": 100,
   "metadata": {},
   "outputs": [
    {
     "data": {
      "text/plain": [
       "0.6318049749839368"
      ]
     },
     "execution_count": 100,
     "metadata": {},
     "output_type": "execute_result"
    }
   ],
   "source": [
    "tp = len(lens[(preds == 1) & correct])\n",
    "tn = len(lens[(preds == 0) & correct])\n",
    "fp = len(lens[(preds == 1) & ~correct])\n",
    "fn = len(lens[(preds == 0) & ~correct])\n",
    "\n",
    "((tp/(tp+fn)) + (tn/(tn+fp)))/2"
   ]
  },
  {
   "cell_type": "code",
   "execution_count": 60,
   "metadata": {},
   "outputs": [],
   "source": [
    "lens = np.asarray(lens)\n",
    "filtered_correct = correct[lens < 10_000]\n",
    "filtered_lens = lens[lens < 10_000]"
   ]
  },
  {
   "cell_type": "code",
   "execution_count": 74,
   "metadata": {},
   "outputs": [],
   "source": [
    "labels = np.asarray(labels)"
   ]
  },
  {
   "cell_type": "code",
   "execution_count": 78,
   "metadata": {},
   "outputs": [
    {
     "data": {
      "text/plain": [
       "<matplotlib.legend.Legend at 0x22535ee2050>"
      ]
     },
     "execution_count": 78,
     "metadata": {},
     "output_type": "execute_result"
    },
    {
     "data": {
      "image/png": "[encoded data removed]",
      "text/plain": [
       "<Figure size 640x480 with 1 Axes>"
      ]
     },
     "metadata": {},
     "output_type": "display_data"
    }
   ],
   "source": [
    "vuln_lens = lens[labels == 1]\n",
    "clean_lens = lens[labels == 0]\n",
    "\n",
    "vuln_lens = vuln_lens[vuln_lens < 10_000]\n",
    "clean_lens = clean_lens[clean_lens < 10_000]\n",
    "\n",
    "vuln_counts, edges = np.histogram(vuln_lens, bins=100, density=True)\n",
    "clean_counts, _ = np.histogram(clean_lens, bins=edges, density=True)\n",
    "\n",
    "plt.plot(edges[:-1], vuln_counts, label=\"Vuln\")\n",
    "plt.plot(edges[:-1], clean_counts, label=\"Clean\")\n",
    "plt.legend()"
   ]
  },
  {
   "cell_type": "code",
   "execution_count": 61,
   "metadata": {},
   "outputs": [
    {
     "data": {
      "image/png": "[encoded data removed]",
      "text/plain": [
       "<Figure size 640x480 with 1 Axes>"
      ]
     },
     "metadata": {},
     "output_type": "display_data"
    }
   ],
   "source": [
    "counts, edges = np.histogram(filtered_lens, bins=100)\n",
    "plt.plot(edges.tolist()[:-1], counts, marker=\"o\")\n",
    "plt.yscale(\"linear\")"
   ]
  },
  {
   "cell_type": "code",
   "execution_count": 62,
   "metadata": {},
   "outputs": [
    {
     "name": "stderr",
     "output_type": "stream",
     "text": [
      "C:\\Users\\I518118\\AppData\\Local\\Temp\\ipykernel_26720\\1703238288.py:2: RuntimeWarning: invalid value encountered in divide\n",
      "  H_correct = H[:, -1] / np.sum(H, axis=-1)\n"
     ]
    },
    {
     "data": {
      "text/plain": [
       "[<matplotlib.lines.Line2D at 0x22530962350>]"
      ]
     },
     "execution_count": 62,
     "metadata": {},
     "output_type": "execute_result"
    },
    {
     "data": {
      "image/png": "[encoded data removed]",
      "text/plain": [
       "<Figure size 640x480 with 1 Axes>"
      ]
     },
     "metadata": {},
     "output_type": "display_data"
    }
   ],
   "source": [
    "H, xedges, yedges = np.histogram2d(filtered_lens, filtered_correct, bins=30)\n",
    "H_correct = H[:, -1] / np.sum(H, axis=-1)\n",
    "plt.plot(xedges[:-1], H_correct, marker=\"o\")"
   ]
  },
  {
   "cell_type": "code",
   "execution_count": 81,
   "metadata": {},
   "outputs": [],
   "source": [
    "filtered_preds = preds[lens < 10_000]\n",
    "filtered_labels = labels[lens < 10_000]"
   ]
  },
  {
   "cell_type": "code",
   "execution_count": 116,
   "metadata": {},
   "outputs": [
    {
     "name": "stderr",
     "output_type": "stream",
     "text": [
      "C:\\Users\\I518118\\AppData\\Local\\Temp\\ipykernel_26720\\2755590405.py:13: RuntimeWarning: invalid value encountered in divide\n",
      "  tpr_binned = tp_binned / (tp_binned + fn_binned)\n",
      "C:\\Users\\I518118\\AppData\\Local\\Temp\\ipykernel_26720\\2755590405.py:14: RuntimeWarning: invalid value encountered in divide\n",
      "  tnr_binned = tn_binned / (tn_binned + fp_binned)\n"
     ]
    },
    {
     "data": {
      "text/plain": [
       "[<matplotlib.lines.Line2D at 0x2252ce9f370>]"
      ]
     },
     "execution_count": 116,
     "metadata": {},
     "output_type": "execute_result"
    },
    {
     "data": {
      "image/png": "[encoded data removed]",
      "text/plain": [
       "<Figure size 640x480 with 1 Axes>"
      ]
     },
     "metadata": {},
     "output_type": "display_data"
    }
   ],
   "source": [
    "_, xedges = np.histogram(filtered_lens, bins=[0] + np.logspace(np.log10(20), np.log10(10_000), 10).tolist())\n",
    "\n",
    "filtered_tps = filtered_lens[(filtered_preds == 1) & filtered_correct]\n",
    "filtered_tns = filtered_lens[(filtered_preds == 0) & filtered_correct]\n",
    "filtered_fps = filtered_lens[(filtered_preds == 1) & ~filtered_correct]\n",
    "filtered_fns = filtered_lens[(filtered_preds == 0) & ~filtered_correct]\n",
    "\n",
    "tp_binned = np.histogram(filtered_tps, bins=xedges)[0]\n",
    "tn_binned = np.histogram(filtered_tns, bins=xedges)[0]\n",
    "fp_binned = np.histogram(filtered_fps, bins=xedges)[0]\n",
    "fn_binned = np.histogram(filtered_fns, bins=xedges)[0]\n",
    "\n",
    "tpr_binned = tp_binned / (tp_binned + fn_binned)\n",
    "tnr_binned = tn_binned / (tn_binned + fp_binned)\n",
    "\n",
    "bacc_binned = (tpr_binned + tnr_binned) / 2\n",
    "\n",
    "xvals = (xedges[1:] + xedges[:-1])/2\n",
    "plt.plot(xvals, bacc_binned, marker=\"o\")"
   ]
  },
  {
   "cell_type": "code",
   "execution_count": 56,
   "metadata": {},
   "outputs": [
    {
     "data": {
      "text/plain": [
       "0.7621758380771664"
      ]
     },
     "execution_count": 56,
     "metadata": {},
     "output_type": "execute_result"
    }
   ],
   "source": [
    "np.sum(H[:, -1]) / np.sum(H)"
   ]
  }
 ],
 "metadata": {
  "kernelspec": {
   "display_name": "venv",
   "language": "python",
   "name": "python3"
  },
  "language_info": {
   "codemirror_mode": {
    "name": "ipython",
    "version": 3
   },
   "file_extension": ".py",
   "mimetype": "text/x-python",
   "name": "python",
   "nbconvert_exporter": "python",
   "pygments_lexer": "ipython3",
   "version": "3.10.10"
  },
  "orig_nbformat": 4
 },
 "nbformat": 4,
 "nbformat_minor": 2
}
