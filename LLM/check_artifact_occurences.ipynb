{
 "cells": [
  {
   "cell_type": "code",
   "execution_count": 1,
   "metadata": {},
   "outputs": [],
   "source": [
    "import re\n",
    "import csv"
   ]
  },
  {
   "cell_type": "code",
   "execution_count": 13,
   "metadata": {},
   "outputs": [],
   "source": [
    "import csv\n",
    "csv.field_size_limit(1000000000)\n",
    "pos_funcs = []\n",
    "neg_funcs = []\n",
    "with open(\"\\\\\\\\wsl.localhost\\\\Ubuntu\\\\home\\\\imger\\\\repos\\\\codet5-linevul\\\\train.csv\", 'r', newline='', encoding=\"utf-8\") as csvfile:\n",
    "        reader = csv.DictReader(csvfile)\n",
    "        for row in reader:\n",
    "            if row[\"target\"] == \"0\":\n",
    "                neg_funcs.append(row[\"processed_func\"])\n",
    "            else:\n",
    "                assert row[\"target\"] == \"1\"\n",
    "                pos_funcs.append(row[\"processed_func\"])"
   ]
  },
  {
   "cell_type": "code",
   "execution_count": 80,
   "metadata": {},
   "outputs": [
    {
     "data": {
      "text/plain": [
       "(198, 67, 2, 7)"
      ]
     },
     "execution_count": 80,
     "metadata": {},
     "output_type": "execute_result"
    }
   ],
   "source": [
    "pattern = r\"\\}\\}\"\n",
    "def num_pattern(s):\n",
    "    if has_pattern(s):\n",
    "        return len(re.findall(r\"\\}\\}\", s)) + len(re.findall(r\"float\", s)) + len(re.findall(r\" \\{\\{\", s))\n",
    "    return 0\n",
    "    return len(re.findall(pattern, s))\n",
    "def has_pattern(s):\n",
    "    # return len(re.findall(pattern, s)) > 0\n",
    "    return len(re.findall(r\"\\}\\}\", s)) > 0 and len(re.findall(r\"float\", s)) > 0 and len(re.findall(r\" \\{\\{\", s)) > 0\n",
    "sum(map(num_pattern, pos_funcs)), sum(map(num_pattern, neg_funcs)), len(list(filter(has_pattern, pos_funcs))), len(list(filter(has_pattern, neg_funcs)))"
   ]
  },
  {
   "cell_type": "code",
   "execution_count": 15,
   "metadata": {},
   "outputs": [
    {
     "data": {
      "text/plain": [
       "(0.06144669836536027, 16.274267399267398)"
      ]
     },
     "execution_count": 15,
     "metadata": {},
     "output_type": "execute_result"
    }
   ],
   "source": [
    "len(pos_funcs) / len(neg_funcs), len(neg_funcs) / len(pos_funcs)"
   ]
  }
 ],
 "metadata": {
  "kernelspec": {
   "display_name": "venv",
   "language": "python",
   "name": "python3"
  },
  "language_info": {
   "codemirror_mode": {
    "name": "ipython",
    "version": 3
   },
   "file_extension": ".py",
   "mimetype": "text/x-python",
   "name": "python",
   "nbconvert_exporter": "python",
   "pygments_lexer": "ipython3",
   "version": "3.10.10"
  },
  "orig_nbformat": 4
 },
 "nbformat": 4,
 "nbformat_minor": 2
}
