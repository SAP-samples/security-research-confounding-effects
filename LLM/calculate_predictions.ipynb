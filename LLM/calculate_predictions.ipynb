{
 "cells": [
  {
   "cell_type": "code",
   "execution_count": 1,
   "metadata": {},
   "outputs": [],
   "source": [
    "import os\n",
    "os.chdir(\"..\")"
   ]
  },
  {
   "cell_type": "code",
   "execution_count": 2,
   "metadata": {},
   "outputs": [],
   "source": [
    "from utils import get_classification_model\n",
    "from torch_geometric.data import Data\n",
    "import glob\n",
    "from tqdm import tqdm\n",
    "import torch\n",
    "\n",
    "import pickle\n",
    "import gzip\n",
    "from params import CLASSIFIER_PARAMS\n",
    "from datasets import Dataset"
   ]
  },
  {
   "cell_type": "code",
   "execution_count": 3,
   "metadata": {},
   "outputs": [
    {
     "data": {
      "text/plain": [
       "GraphClassifier(\n",
       "  (encoder): CompositeGraphLevelEncoder(\n",
       "    (node_level_encoder): GGNNEncoder(\n",
       "      (layers): ModuleList()\n",
       "      (norms): ModuleList()\n",
       "      (ggnn): GatedGraphConv(200, num_layers=8)\n",
       "      (out): Linear(in_features=200, out_features=200, bias=True)\n",
       "    )\n",
       "  )\n",
       "  (classifier): MLPClassifier(\n",
       "    (layers): ModuleList(\n",
       "      (0): Linear(in_features=200, out_features=256, bias=True)\n",
       "      (1): Linear(in_features=256, out_features=128, bias=True)\n",
       "      (2): Linear(in_features=128, out_features=256, bias=True)\n",
       "      (3): Linear(in_features=256, out_features=1, bias=True)\n",
       "    )\n",
       "  )\n",
       ")"
      ]
     },
     "execution_count": 3,
     "metadata": {},
     "output_type": "execute_result"
    }
   ],
   "source": [
    "CLASSIFIER_PARAMS[\"features\"] = 150\n",
    "CLASSIFIER_PARAMS[\"classes\"] = 1\n",
    "CLASSIFIER_PARAMS[\"edge_dim\"] = None\n",
    "model = get_classification_model(CLASSIFIER_PARAMS)\n",
    "model.load(\"results/REVEAL_CLASSIFIER_LINEVUL_baseline/checkpoint/\")\n",
    "model.eval()"
   ]
  },
  {
   "cell_type": "code",
   "execution_count": 4,
   "metadata": {},
   "outputs": [],
   "source": [
    "from sklearn.metrics import matthews_corrcoef, accuracy_score, f1_score, balanced_accuracy_score\n",
    "\n",
    "def compute_metrics(pred, true):\n",
    "    predicted = (torch.as_tensor(pred) > 0.5).long().tolist()\n",
    "    return {\n",
    "        \"MCC\": matthews_corrcoef(true, predicted),\n",
    "        \"F1\": f1_score(true, predicted, average='macro'),\n",
    "        \"Acc\": accuracy_score(true, predicted),\n",
    "        \"BAcc\": balanced_accuracy_score(true, predicted),\n",
    "    }"
   ]
  },
  {
   "cell_type": "code",
   "execution_count": 5,
   "metadata": {},
   "outputs": [],
   "source": [
    "@torch.no_grad()\n",
    "def eval(CPG_SET, dataset_name):\n",
    "    print(f\"Evaluating {CPG_SET}\")\n",
    "    preds = []\n",
    "    trues = []\n",
    "    index = []\n",
    "    for name in tqdm(glob.glob(f\"cache/{CPG_SET}/*.cpg.pt.gz\")):\n",
    "        name = name.replace(\"\\\\\", \"/\")\n",
    "        idx = name.split(\"/\")[-1].split(\"_\")[0]\n",
    "        label = int(name.split(\"/\")[-1].split(\"_\")[-1].split(\".\")[0])\n",
    "\n",
    "        object_file = pickle.load(gzip.open(name))\n",
    "        data = Data(x=torch.cat((object_file[\"astenc\"], object_file[\"codeenc\"]), dim=1), edge_index=object_file[\"edge_index\"], y=object_file[\"y\"])\n",
    "        data.edge_index = data.edge_index.long()\n",
    "        data.x = data.x.float()\n",
    "        pred = model.classify(data)\n",
    "\n",
    "        preds.append(pred.squeeze().item())\n",
    "        trues.append(label)\n",
    "        index.append(int(idx))\n",
    "    print(compute_metrics(preds, trues))\n",
    "    data = Dataset.from_dict({\n",
    "        \"index\": index,\n",
    "        \"pred\": preds,\n",
    "        \"true\": trues,\n",
    "    })\n",
    "    data.save_to_disk(os.path.join(\"data/report/prediction/reveal\", dataset_name))"
   ]
  },
  {
   "cell_type": "code",
   "execution_count": 6,
   "metadata": {},
   "outputs": [],
   "source": [
    "DATASETS = [\n",
    "    (\"LINEVUL_TEST\", \"test\"),\n",
    "    (\"LINEVUL_CHROMIUM\", \"perturbed-data/apply_codestyle_Chromium\"),\n",
    "    (\"LINEVUL_GOOGLE\", \"perturbed-data/apply_codestyle_Google\"),\n",
    "    (\"LINEVUL_LLVM\", \"perturbed-data/apply_codestyle_LLVM\"),\n",
    "    (\"LINEVUL_MOZILLA\", \"perturbed-data/apply_codestyle_Mozilla\"),\n",
    "    (\"LINEVUL_COBFUSCATE\", \"perturbed-data/apply_cobfuscate\"),\n",
    "    (\"LINEVUL_DOUBLE_OBFUSCATE\", \"perturbed-data/double_obfuscate\"),\n",
    "    (\"LINEVUL_OBFUSCATE_STLYE\", \"perturbed-data/obfuscate_then_style\"),\n",
    "    (\"LINEVUL_PYOBFUSCATE_STLYE\", \"perturbed-data/py_obfuscate_then_style\"),\n",
    "    (\"LINEVUL_PYOBFUSCATOR\", \"perturbed-data/apply_py_obfuscator\"),\n",
    "]"
   ]
  },
  {
   "cell_type": "code",
   "execution_count": 7,
   "metadata": {},
   "outputs": [
    {
     "name": "stdout",
     "output_type": "stream",
     "text": [
      "Evaluating LINEVUL_TEST\n"
     ]
    },
    {
     "name": "stderr",
     "output_type": "stream",
     "text": [
      "100%|██████████| 9960/9960 [03:10<00:00, 52.40it/s]\n"
     ]
    },
    {
     "name": "stdout",
     "output_type": "stream",
     "text": [
      "{'MCC': 0.13004653768274682, 'F1': 0.564230028049447, 'Acc': 0.8914658634538153, 'BAcc': 0.5718852431421637}\n"
     ]
    },
    {
     "data": {
      "application/vnd.jupyter.widget-view+json": {
       "model_id": "6350eadc82a94df9b55e34a85237690e",
       "version_major": 2,
       "version_minor": 0
      },
      "text/plain": [
       "Saving the dataset (0/1 shards):   0%|          | 0/9960 [00:00<?, ? examples/s]"
      ]
     },
     "metadata": {},
     "output_type": "display_data"
    },
    {
     "name": "stdout",
     "output_type": "stream",
     "text": [
      "Evaluating LINEVUL_CHROMIUM\n"
     ]
    },
    {
     "name": "stderr",
     "output_type": "stream",
     "text": [
      "100%|██████████| 9968/9968 [03:13<00:00, 51.57it/s]\n"
     ]
    },
    {
     "name": "stdout",
     "output_type": "stream",
     "text": [
      "{'MCC': 0.13230661833963397, 'F1': 0.56545885320408, 'Acc': 0.8921548956661316, 'BAcc': 0.5726421269123793}\n"
     ]
    },
    {
     "data": {
      "application/vnd.jupyter.widget-view+json": {
       "model_id": "09a9450f8c1f4eb099c4b3e1fc23de14",
       "version_major": 2,
       "version_minor": 0
      },
      "text/plain": [
       "Saving the dataset (0/1 shards):   0%|          | 0/9968 [00:00<?, ? examples/s]"
      ]
     },
     "metadata": {},
     "output_type": "display_data"
    },
    {
     "name": "stdout",
     "output_type": "stream",
     "text": [
      "Evaluating LINEVUL_GOOGLE\n"
     ]
    },
    {
     "name": "stderr",
     "output_type": "stream",
     "text": [
      "100%|██████████| 9967/9967 [03:11<00:00, 52.15it/s]\n"
     ]
    },
    {
     "name": "stdout",
     "output_type": "stream",
     "text": [
      "{'MCC': 0.1265459138799394, 'F1': 0.562146249910711, 'Acc': 0.8881308317447577, 'BAcc': 0.5712900143882419}\n"
     ]
    },
    {
     "data": {
      "application/vnd.jupyter.widget-view+json": {
       "model_id": "338f54d0de274cfb90d73f8d4c76ca7b",
       "version_major": 2,
       "version_minor": 0
      },
      "text/plain": [
       "Saving the dataset (0/1 shards):   0%|          | 0/9967 [00:00<?, ? examples/s]"
      ]
     },
     "metadata": {},
     "output_type": "display_data"
    },
    {
     "name": "stdout",
     "output_type": "stream",
     "text": [
      "Evaluating LINEVUL_LLVM\n"
     ]
    },
    {
     "name": "stderr",
     "output_type": "stream",
     "text": [
      "100%|██████████| 9967/9967 [03:10<00:00, 52.31it/s]\n"
     ]
    },
    {
     "name": "stdout",
     "output_type": "stream",
     "text": [
      "{'MCC': 0.13175952471129812, 'F1': 0.5651573562874523, 'Acc': 0.8918430821711648, 'BAcc': 0.5724786199606239}\n"
     ]
    },
    {
     "data": {
      "application/vnd.jupyter.widget-view+json": {
       "model_id": "5974f42f0f07440d88cce7eb7132468d",
       "version_major": 2,
       "version_minor": 0
      },
      "text/plain": [
       "Saving the dataset (0/1 shards):   0%|          | 0/9967 [00:00<?, ? examples/s]"
      ]
     },
     "metadata": {},
     "output_type": "display_data"
    },
    {
     "name": "stdout",
     "output_type": "stream",
     "text": [
      "Evaluating LINEVUL_MOZILLA\n"
     ]
    },
    {
     "name": "stderr",
     "output_type": "stream",
     "text": [
      "100%|██████████| 10149/10149 [02:58<00:00, 56.81it/s]"
     ]
    },
    {
     "name": "stdout",
     "output_type": "stream",
     "text": [
      "{'MCC': 0.12994687867621513, 'F1': 0.5646078176952396, 'Acc': 0.8957532761848458, 'BAcc': 0.569617858658973}\n"
     ]
    },
    {
     "name": "stderr",
     "output_type": "stream",
     "text": [
      "\n"
     ]
    },
    {
     "data": {
      "application/vnd.jupyter.widget-view+json": {
       "model_id": "0390c9982e3b42818e94202fa297881c",
       "version_major": 2,
       "version_minor": 0
      },
      "text/plain": [
       "Saving the dataset (0/1 shards):   0%|          | 0/10149 [00:00<?, ? examples/s]"
      ]
     },
     "metadata": {},
     "output_type": "display_data"
    },
    {
     "name": "stdout",
     "output_type": "stream",
     "text": [
      "Evaluating LINEVUL_COBFUSCATE\n"
     ]
    },
    {
     "name": "stderr",
     "output_type": "stream",
     "text": [
      "100%|██████████| 18233/18233 [05:38<00:00, 53.83it/s]"
     ]
    },
    {
     "name": "stdout",
     "output_type": "stream",
     "text": [
      "{'MCC': -0.004637888965314918, 'F1': 0.22330325399488127, 'Acc': 0.2429112049580431, 'BAcc': 0.495797514264231}\n"
     ]
    },
    {
     "name": "stderr",
     "output_type": "stream",
     "text": [
      "\n"
     ]
    },
    {
     "data": {
      "application/vnd.jupyter.widget-view+json": {
       "model_id": "07cd0d3856c244cfb93ae41e3615b2aa",
       "version_major": 2,
       "version_minor": 0
      },
      "text/plain": [
       "Saving the dataset (0/1 shards):   0%|          | 0/18233 [00:00<?, ? examples/s]"
      ]
     },
     "metadata": {},
     "output_type": "display_data"
    },
    {
     "name": "stdout",
     "output_type": "stream",
     "text": [
      "Evaluating LINEVUL_DOUBLE_OBFUSCATE\n"
     ]
    },
    {
     "name": "stderr",
     "output_type": "stream",
     "text": [
      "100%|██████████| 18402/18402 [08:22<00:00, 36.65it/s]\n"
     ]
    },
    {
     "name": "stdout",
     "output_type": "stream",
     "text": [
      "{'MCC': -0.013020779068161079, 'F1': 0.27894882320162706, 'Acc': 0.32469296815563525, 'BAcc': 0.4867738660609815}\n"
     ]
    },
    {
     "data": {
      "application/vnd.jupyter.widget-view+json": {
       "model_id": "b69faf54a3674ff985a22156fa502a6c",
       "version_major": 2,
       "version_minor": 0
      },
      "text/plain": [
       "Saving the dataset (0/1 shards):   0%|          | 0/18402 [00:00<?, ? examples/s]"
      ]
     },
     "metadata": {},
     "output_type": "display_data"
    },
    {
     "name": "stdout",
     "output_type": "stream",
     "text": [
      "Evaluating LINEVUL_OBFUSCATE_STLYE\n"
     ]
    },
    {
     "name": "stderr",
     "output_type": "stream",
     "text": [
      "100%|██████████| 18337/18337 [08:02<00:00, 38.01it/s]\n"
     ]
    },
    {
     "name": "stdout",
     "output_type": "stream",
     "text": [
      "{'MCC': 0.00722309922886159, 'F1': 0.23421330718329686, 'Acc': 0.25663958117467417, 'BAcc': 0.5066588943861485}\n"
     ]
    },
    {
     "data": {
      "application/vnd.jupyter.widget-view+json": {
       "model_id": "c5ecf6f420f64af788c393e9b8e0550e",
       "version_major": 2,
       "version_minor": 0
      },
      "text/plain": [
       "Saving the dataset (0/1 shards):   0%|          | 0/18337 [00:00<?, ? examples/s]"
      ]
     },
     "metadata": {},
     "output_type": "display_data"
    },
    {
     "name": "stdout",
     "output_type": "stream",
     "text": [
      "Evaluating LINEVUL_PYOBFUSCATE_STLYE\n"
     ]
    },
    {
     "name": "stderr",
     "output_type": "stream",
     "text": [
      "100%|██████████| 9229/9229 [04:37<00:00, 33.23it/s]\n"
     ]
    },
    {
     "name": "stdout",
     "output_type": "stream",
     "text": [
      "{'MCC': 0.12142616528190155, 'F1': 0.5603252413694015, 'Acc': 0.8907790659876477, 'BAcc': 0.565196176044325}\n"
     ]
    },
    {
     "data": {
      "application/vnd.jupyter.widget-view+json": {
       "model_id": "764a14a430404150b3f4d6dd5ef5229d",
       "version_major": 2,
       "version_minor": 0
      },
      "text/plain": [
       "Saving the dataset (0/1 shards):   0%|          | 0/9229 [00:00<?, ? examples/s]"
      ]
     },
     "metadata": {},
     "output_type": "display_data"
    },
    {
     "name": "stdout",
     "output_type": "stream",
     "text": [
      "Evaluating LINEVUL_PYOBFUSCATOR\n"
     ]
    },
    {
     "name": "stderr",
     "output_type": "stream",
     "text": [
      "100%|██████████| 9180/9180 [03:55<00:00, 38.92it/s]\n"
     ]
    },
    {
     "name": "stdout",
     "output_type": "stream",
     "text": [
      "{'MCC': 0.11724991726623797, 'F1': 0.5576267580898103, 'Acc': 0.8854030501089325, 'BAcc': 0.5656741448596652}\n"
     ]
    },
    {
     "data": {
      "application/vnd.jupyter.widget-view+json": {
       "model_id": "11b6a9eda6234e5995304777876624ec",
       "version_major": 2,
       "version_minor": 0
      },
      "text/plain": [
       "Saving the dataset (0/1 shards):   0%|          | 0/9180 [00:00<?, ? examples/s]"
      ]
     },
     "metadata": {},
     "output_type": "display_data"
    }
   ],
   "source": [
    "for cpg_path, dataset_name in DATASETS:\n",
    "    eval(cpg_path, dataset_name)"
   ]
  }
 ],
 "metadata": {
  "kernelspec": {
   "display_name": "venv",
   "language": "python",
   "name": "python3"
  },
  "language_info": {
   "codemirror_mode": {
    "name": "ipython",
    "version": 3
   },
   "file_extension": ".py",
   "mimetype": "text/x-python",
   "name": "python",
   "nbconvert_exporter": "python",
   "pygments_lexer": "ipython3",
   "version": "3.10.10"
  },
  "orig_nbformat": 4
 },
 "nbformat": 4,
 "nbformat_minor": 2
}
